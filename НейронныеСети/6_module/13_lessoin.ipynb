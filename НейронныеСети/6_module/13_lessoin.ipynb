{
 "cells": [
  {
   "cell_type": "markdown",
   "metadata": {},
   "source": [
    " ATTENTION: вычисление весов"
   ]
  },
  {
   "cell_type": "markdown",
   "metadata": {},
   "source": [
    "Как проходит обучение\n",
    "\n",
    "Пусть стоит задача сгенерировать вектор cj, соответствующий линейной комбинации всех входных слов. cj зависит от входных векторных представлений, пропущенных через рекуррентную сеть encoder'а. Кроме векторных представлений на вход будет подано предыдущее скрытое состояние в decoder'е sj-1, которое говорит о том, какая цепочка была сгенерирована ранее."
   ]
  },
  {
   "cell_type": "markdown",
   "metadata": {},
   "source": [
    "https://lms-cdn.skillfactory.ru/assets/courseware/v1/4e0ec87ef035b7603f0ada6e10867117/asset-v1:SkillFactory+MLDL+ALWAYS+type@asset+block/DL-1_10_модуль_19_1.png"
   ]
  },
  {
   "cell_type": "markdown",
   "metadata": {},
   "source": [
    "Вектор cj есть линейная комбинация входных векторов  ei."
   ]
  },
  {
   "cell_type": "markdown",
   "metadata": {},
   "source": [
    "https://lms-cdn.skillfactory.ru/assets/courseware/v1/31d1e241d326b3a017ecb6810928f9f8/asset-v1:SkillFactory+MLDL+ALWAYS+type@asset+block/DL-1_10_модуль_22.png"
   ]
  },
  {
   "cell_type": "markdown",
   "metadata": {},
   "source": [
    "Весовые коэффициенты  αij — это softmax  от некоторых иных параметров, задающий вероятностное распределение, показывающее, с каким весом будет взято каждое слово."
   ]
  },
  {
   "cell_type": "markdown",
   "metadata": {},
   "source": [
    "https://lms-cdn.skillfactory.ru/assets/courseware/v1/32137ca298b846a881b333ed8ba588b3/asset-v1:SkillFactory+MLDL+ALWAYS+type@asset+block/DL-1_10_модуль_21.png"
   ]
  },
  {
   "cell_type": "markdown",
   "metadata": {},
   "source": [
    "Каждый элемент вектора Аj представляет собой нейронную сеть, которая на вход принимает знание о том, какое в данный момент входное слово и какая история была до этого сгенерирована последовательностью. Именно от этого и будет зависеть, с каким весом будет взято текущее слово."
   ]
  },
  {
   "cell_type": "markdown",
   "metadata": {},
   "source": [
    "https://lms-cdn.skillfactory.ru/assets/courseware/v1/b582f0eee32b254fccdc74e7915cc980/asset-v1:SkillFactory+MLDL+ALWAYS+type@asset+block/DL-1_10_модуль_20.png"
   ]
  },
  {
   "cell_type": "markdown",
   "metadata": {},
   "source": [
    "Так вычисляется ATTENTION и это уже достаточно мощная архитектура обработки последовательностей. Следующая идея позволит улучшить эту архитектуру."
   ]
  },
  {
   "cell_type": "markdown",
   "metadata": {},
   "source": []
  }
 ],
 "metadata": {
  "language_info": {
   "name": "python"
  }
 },
 "nbformat": 4,
 "nbformat_minor": 2
}
