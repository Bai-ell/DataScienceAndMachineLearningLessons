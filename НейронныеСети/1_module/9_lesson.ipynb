{
 "cells": [
  {
   "cell_type": "markdown",
   "metadata": {},
   "source": [
    "  От распознания к синтезу"
   ]
  },
  {
   "cell_type": "markdown",
   "metadata": {},
   "source": [
    "Синтез — это обратная задача, то есть перевод информации высокого уровня в информацию низкого уровня. \n",
    "\n",
    "На примере человека: восприятие и творчество"
   ]
  },
  {
   "cell_type": "markdown",
   "metadata": {},
   "source": [
    "https://lms-cdn.skillfactory.ru/assets/courseware/v1/eb4f06ccc91e7452e207b7649bfa6e50/asset-v1:SkillFactory+MLDL+ALWAYS+type@asset+block/DL_1_модуль_19.png"
   ]
  },
  {
   "cell_type": "markdown",
   "metadata": {},
   "source": [
    "На примере работы техники: распознавание и синтез"
   ]
  },
  {
   "cell_type": "markdown",
   "metadata": {},
   "source": [
    "https://lms-cdn.skillfactory.ru/assets/courseware/v1/a29fa8d8bfd596d6c2ecd41e6dc7ba5b/asset-v1:SkillFactory+MLDL+ALWAYS+type@asset+block/DL_1_модуль_20.png"
   ]
  },
  {
   "cell_type": "markdown",
   "metadata": {},
   "source": []
  }
 ],
 "metadata": {
  "language_info": {
   "name": "python"
  }
 },
 "nbformat": 4,
 "nbformat_minor": 2
}
