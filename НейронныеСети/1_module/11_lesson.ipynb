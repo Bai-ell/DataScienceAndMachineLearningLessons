{
 "cells": [
  {
   "cell_type": "markdown",
   "metadata": {},
   "source": [
    "Причины успеха"
   ]
  },
  {
   "cell_type": "markdown",
   "metadata": {},
   "source": [
    "Причины успеха глубокого обучения:\n",
    "\n",
    " совершенствующиеся алгоритмы и архитектуры;\n",
    " доступные объемы данных;\n",
    " ускорение обучения и вывода с помощью GPU."
   ]
  },
  {
   "cell_type": "markdown",
   "metadata": {},
   "source": [
    "https://lms-cdn.skillfactory.ru/assets/courseware/v1/9a570b2dddd4220ffe451100a9cc8871/asset-v1:SkillFactory+MLDL+ALWAYS+type@asset+block/DL_1_модуль_22.png"
   ]
  },
  {
   "cell_type": "markdown",
   "metadata": {},
   "source": []
  }
 ],
 "metadata": {
  "language_info": {
   "name": "python"
  }
 },
 "nbformat": 4,
 "nbformat_minor": 2
}
