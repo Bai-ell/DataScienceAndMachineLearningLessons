{
 "cells": [
  {
   "cell_type": "markdown",
   "metadata": {},
   "source": [
    "Автокодировщики"
   ]
  },
  {
   "cell_type": "markdown",
   "metadata": {},
   "source": [
    "Автокодировщики (autoencoders) — это специальная архитектура нейронной сети, позволяющая сжимать входные данные. Автокодировщик сжимает входные признаки в более компактное представление, которое не теряет информации об исходных данных.\n",
    "\n",
    "Encoder сжимает признаковое описание на входе, decoder  расшифровывает эту информацию обратно, не изменяя входные данные:\n",
    "\n",
    "Encoder = data to hidden\n",
    "Decoder = hidden to data\n",
    "Decoder(Encoder(x)) ~ x (близость по MSE)"
   ]
  },
  {
   "cell_type": "markdown",
   "metadata": {},
   "source": [
    "https://lms-cdn.skillfactory.ru/assets/courseware/v1/89c36578717e43afd768667f2c8d6e94/asset-v1:SkillFactory+MLDL+ALWAYS+type@asset+block/DL-2_5_модуль_13.png"
   ]
  },
  {
   "cell_type": "markdown",
   "metadata": {},
   "source": [
    "Такое сжатое представление или bottleneck (горлышко бутылки) будет полезным для решения задач.\n",
    "\n",
    "Вспомним про PCA (метод главных компонент)\n",
    "\n",
    "Данный метод основан на представлении исходной матрицы признаков в виде произведения других матриц и позволяет найти пространство меньшей размерности, хорошо описывающее входные данные. Этот метод в следующем модуле будет разобран подробно."
   ]
  },
  {
   "cell_type": "markdown",
   "metadata": {},
   "source": [
    "https://lms-cdn.skillfactory.ru/assets/courseware/v1/540f9d625d9a3bbbfb4d92cdc69a13e5/asset-v1:SkillFactory+MLDL+ALWAYS+type@asset+block/DL-2_5_модуль_14.png"
   ]
  },
  {
   "cell_type": "markdown",
   "metadata": {},
   "source": [
    "Такую задачу можно переписать в виде нейронной сети:\n",
    "\n",
    "D признаков на входе при помощи полносвязного слоя Encoder сжимаем до представления в H признаков.\n",
    "\n",
    "H много меньше D.\n",
    "\n",
    "Полносвязный слой Decoder с помощью маленького представления H пытается восстановить исходные D признаков.\n",
    "\n",
    "Цель обучения такой нейросети в том, чтобы представление H, пропущенное через сеть, не изменяло входные данные.\n",
    "\n",
    "\n",
    "Метод главных компонент позволяет сжимать картинку в 10 раз."
   ]
  },
  {
   "cell_type": "markdown",
   "metadata": {},
   "source": [
    "https://lms-cdn.skillfactory.ru/assets/courseware/v1/f220660b107b879e59eca47b1f156ba0/asset-v1:SkillFactory+MLDL+ALWAYS+type@asset+block/DL-2_5_модуль_15.png"
   ]
  },
  {
   "cell_type": "markdown",
   "metadata": {},
   "source": []
  }
 ],
 "metadata": {
  "language_info": {
   "name": "python"
  }
 },
 "nbformat": 4,
 "nbformat_minor": 2
}
