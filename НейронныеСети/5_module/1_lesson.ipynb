{
 "cells": [
  {
   "cell_type": "markdown",
   "metadata": {},
   "source": [
    "Введение"
   ]
  },
  {
   "cell_type": "markdown",
   "metadata": {},
   "source": [
    "В этом модуле речь пойдёт о Переносе обучения или Transfer learning.\n",
    "\n",
    "Обучение нейронной сети требует большого объёма данных, например, в ImageNet это миллионы картинок. Что делать, если в текущей задаче не так много данных? Оказывается, в решении новой задачи можно переиспользовать часть нейросети, которая училась на ImageNet[1].\n",
    "\n",
    "Сеть, которая обучилась на ImageNet, рассматривают, как состоящую из:\n",
    "\n",
    "первая часть (на рисунке синяя) состоит из конволюционных слоёв и извлекает из картинки признаки;\n",
    "вторая часть (на рисунке оранжевая) с помощью многослойного персептрона (MLP) по признакам определяет, к какому из тысячи классов принадлежит картинка."
   ]
  },
  {
   "cell_type": "markdown",
   "metadata": {},
   "source": [
    "https://lms-cdn.skillfactory.ru/assets/courseware/v1/2715587cc14f6ef255902a2a02e5234d/asset-v1:SkillFactory+MLDL+ALWAYS+type@asset+block/DL-2_5_модуль_1_1.png"
   ]
  },
  {
   "cell_type": "markdown",
   "metadata": {},
   "source": [
    "Первую (синюю) часть такой сети можно переиспользовать в новой задаче. Такой подход называется Переносом обучения или Transfer learning. Таким образом, чтобы обучить сеть на новой задаче, необходимо доучить только крайний полносвязный слой.\n",
    "\n",
    "Нейроны на разных слоях сети, которую учили на ImageNet, реагируют по-разному:"
   ]
  },
  {
   "cell_type": "markdown",
   "metadata": {},
   "source": [
    "https://lms-cdn.skillfactory.ru/assets/courseware/v1/3c10a7700a7df1157e47447b94f4675d/asset-v1:SkillFactory+MLDL+ALWAYS+type@asset+block/DL-2_5_модуль_2.png"
   ]
  },
  {
   "cell_type": "markdown",
   "metadata": {},
   "source": [
    "Тезаурус\n",
    "\n",
    "ImageNet — база данных аннотированных изображений, предназначенная для отработки и тестирования методов распознавания образов и машинного зрения. ImageNet использует краудсорсинг для аннотирования изображений. ImageNet — это dataset, организованный в соответствии с иерархией WordNet."
   ]
  },
  {
   "cell_type": "markdown",
   "metadata": {},
   "source": [
    "\n",
    "Дополнительные материалы\n",
    "\n",
    "nlp\t\n",
    "В качестве дополнительной литературы рекомендуем вам\n",
    "\n",
    "прочесть статью https://distill.pub/2017/feature-visualization/;\n",
    "ознакомиться с видео-материалом https://www.youtube.com/watch?v=c7d2E_zkju8 .\n"
   ]
  },
  {
   "cell_type": "markdown",
   "metadata": {},
   "source": []
  }
 ],
 "metadata": {
  "language_info": {
   "name": "python"
  }
 },
 "nbformat": 4,
 "nbformat_minor": 2
}
