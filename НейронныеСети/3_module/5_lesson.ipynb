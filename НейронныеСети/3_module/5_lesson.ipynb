{
 "cells": [
  {
   "cell_type": "markdown",
   "metadata": {},
   "source": [
    "5/15   Практика. Простой свёрточный слой\n"
   ]
  },
  {
   "cell_type": "markdown",
   "metadata": {},
   "source": [
    "Используемый в видео ноутбук.\n",
    "\n",
    "В данной практике мы посмотрим, как в Keras настроить свёрточную сеть, а точнее — как добавить свёрточный слой в нашу сеть. Мы будем использовать уже известную нам задачу Fashion MNIST. \n",
    "\n",
    "Загрузим необходимые данные и будем собирать свёрточную сеть, добавляя в неё свёрточный слой Conv2D. Изучим параметры слоя и установим необходимые:\n",
    "\n",
    "model.add(L.Conv2D(1, kernel_size=3, strides=1, padding='same', input_shape=(28, 28, 1)))"
   ]
  },
  {
   "cell_type": "code",
   "execution_count": 6,
   "metadata": {},
   "outputs": [],
   "source": [
    "import numpy as np\n",
    "\n",
    "from matplotlib import pyplot as plt\n",
    "\n",
    "import tensorflow as tf\n",
    "\n",
    "import tensorflow.keras as keras\n",
    "import tensorflow.keras.models as M\n",
    "import tensorflow.keras.layers as L\n",
    "import tensorflow.keras.backend as K\n"
   ]
  },
  {
   "cell_type": "markdown",
   "metadata": {},
   "source": [
    "Используемый в видео ноутбук.\n",
    "\n",
    "Теперь мы знаем, что свёрточный слой должен быть не один, и в нём должно быть больше фильтров. Потому что, используя в свёрточном слое всего один фильтр, мы теряем информацию.\n",
    "\n",
    "Все признаки пикселей мы можем закодировать в глубине, которую даёт нам свёртка.\n",
    "\n",
    "Используя один слой и один канал на входе и на выходе, мы получали на выходе следующий объём: (None, 28, 28, 1)  \n",
    "\n",
    "Попробуем обучить 10 фильтров:\n",
    "\n",
    "model.add(L.Conv2D(filters=10, kernel_size=3, strides=1, padding='same', input_shape=(28, 28, 1)))\n",
    "Заметим, что на выходе теперь 10 каналов: (None, 28, 28, 10), это обусловлено тем, что в каждом пикселе появилась глубина. Количество параметров = 100, по 10 параметров на каждый фильтр. Соответственно, если у нас 32 фильтра, то получим 320 параметров.\n",
    "\n",
    "Мы знаем, что одного свёрточного слоя мало, потому что сейчас каждый из нейронов смотрит на кусочек картинки 3 × 3, что объективно мало. Добавим ещё один свёрточный слой:\n",
    "\n",
    "model.add(L.Conv2D(filters=32, kernel_size=3, strides=1, padding='same', input_shape=(28, 28, 1)))\n",
    "model.add(L.Conv2D(filters=32, kernel_size=3, strides=1, padding='same'))\n",
    "Во втором свёрточном слое получим уже 9 248 параметров! Откуда такое число? Давайте разберёмся.\n",
    "\n",
    "Второй слой будет сворачивать все каналы входного для него изображения, работая с выходом из первого свёрточного слоя. Т.е. keras будет вырезать кусочки размера 3 × 3 × 32. Таким образом, для одного фильтра потребуется 3 × 3 × 32 + 1 параметров. Всего на 32 фильтра: (3 × 3 × 32 + 1) * 32 =9 248.\n",
    "\n",
    "Можно продолжать добавлять свёрточные слои, увеличивая количество каналов в них. Тогда слои будут использовать всё больше и больше параметров."
   ]
  },
  {
   "cell_type": "markdown",
   "metadata": {},
   "source": []
  },
  {
   "cell_type": "code",
   "execution_count": null,
   "metadata": {},
   "outputs": [],
   "source": []
  }
 ],
 "metadata": {
  "kernelspec": {
   "display_name": "venv",
   "language": "python",
   "name": "python3"
  },
  "language_info": {
   "codemirror_mode": {
    "name": "ipython",
    "version": 3
   },
   "file_extension": ".py",
   "mimetype": "text/x-python",
   "name": "python",
   "nbconvert_exporter": "python",
   "pygments_lexer": "ipython3",
   "version": "3.10.16"
  }
 },
 "nbformat": 4,
 "nbformat_minor": 2
}
