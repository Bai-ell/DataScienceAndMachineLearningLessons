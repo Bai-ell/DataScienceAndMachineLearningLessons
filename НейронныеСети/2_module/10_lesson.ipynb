{
 "cells": [
  {
   "cell_type": "markdown",
   "metadata": {},
   "source": [
    "Практика. TF в Google Colab"
   ]
  },
  {
   "cell_type": "markdown",
   "metadata": {},
   "source": [
    "Используемый в видео notebook: skillfactory-dl-2-screencast.ipynb\n",
    "\n",
    "В этом видео мы познакомимся со средой Google Colab и рассмотрим, что можно делать в TF.\n",
    "\n",
    "Google Colab — сервис, который позволяет запускать Juputer ноутбуки, в которых есть видеокарты и много оперативной памяти.\n",
    "\n",
    "Перейдём на страницу https://colab.research.google.com/notebooks/welcome.ipynb.\n",
    "\n",
    "Рекомендуем вам залогиниться через аккаунт Google.\n",
    "\n",
    "Используемый в видео notebook skillfactory-dl-2-screencast.ipynb сразу можно открыть в Google Colab.\n",
    "\n",
    "Вы можете сразу изучить все комбинации клавиш во вкладке Tools — Keyboard chortcuts, например: Ctrl + Enter для запуска ячейки."
   ]
  },
  {
   "cell_type": "markdown",
   "metadata": {},
   "source": []
  }
 ],
 "metadata": {
  "language_info": {
   "name": "python"
  }
 },
 "nbformat": 4,
 "nbformat_minor": 2
}
