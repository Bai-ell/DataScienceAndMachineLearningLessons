{
 "cells": [
  {
   "cell_type": "markdown",
   "metadata": {},
   "source": [
    "MLP — это простейший пример нейросети:"
   ]
  },
  {
   "cell_type": "markdown",
   "metadata": {},
   "source": [
    "https://lms-cdn.skillfactory.ru/assets/courseware/v1/d8bffaae7644af617659ad2fe72a9235/asset-v1:SkillFactory+MLDL+ALWAYS+type@asset+block/sl11.png"
   ]
  },
  {
   "cell_type": "markdown",
   "metadata": {},
   "source": [
    "Слои в MLP называют:\n",
    "\n",
    "Dense layer (плотный);\n",
    "Fully-connected layer (полно-связный).\n",
    "Архитектура MLP:\n",
    "\n",
    "количество слоёв;\n",
    "количество нейронов в каждом слое;\n",
    "функция активации, которую будем использовать."
   ]
  },
  {
   "cell_type": "markdown",
   "metadata": {},
   "source": []
  }
 ],
 "metadata": {
  "language_info": {
   "name": "python"
  }
 },
 "nbformat": 4,
 "nbformat_minor": 2
}
