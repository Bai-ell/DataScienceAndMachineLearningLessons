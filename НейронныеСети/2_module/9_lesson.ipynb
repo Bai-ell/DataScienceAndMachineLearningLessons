{
 "cells": [
  {
   "cell_type": "markdown",
   "metadata": {},
   "source": [
    "Цепное правило и граф производных"
   ]
  },
  {
   "cell_type": "markdown",
   "metadata": {},
   "source": [
    "Теперь у нас есть алгоритм для подсчета производных для любых дифференцируемых графов вычислений. Эффективный способ вычисления всех производных называется back-propagation (обратное распространение ошибки):"
   ]
  },
  {
   "cell_type": "markdown",
   "metadata": {},
   "source": [
    "https://lms-cdn.skillfactory.ru/assets/courseware/v1/edbc89abd20bbb9fe94240c70159c3bb/asset-v1:SkillFactory+MLDL+ALWAYS+type@asset+block/sl43_1.png"
   ]
  },
  {
   "cell_type": "markdown",
   "metadata": {},
   "source": [
    "Back-propagation (Back-prop)\n",
    "\n",
    "В Back-propogation есть два прохода: прямой и обратный. Те производные, которые считает обратный граф — нужно считать в определенной точке. Именно для этого нужен прямой проход — он рассчитает аргументы всех этих производных:"
   ]
  },
  {
   "cell_type": "markdown",
   "metadata": {},
   "source": [
    "https://lms-cdn.skillfactory.ru/assets/courseware/v1/d547ed0b443087fb69623864f735216a/asset-v1:SkillFactory+MLDL+ALWAYS+type@asset+block/sl45.png"
   ]
  },
  {
   "cell_type": "markdown",
   "metadata": {},
   "source": [
    "Инициализация весов\n",
    "\n",
    "Мы не можем инициализировать нулями. "
   ]
  },
  {
   "cell_type": "markdown",
   "metadata": {},
   "source": [
    "https://lms-cdn.skillfactory.ru/assets/courseware/v1/2ae288141d70646e2da641ff976a8447/asset-v1:SkillFactory+MLDL+ALWAYS+type@asset+block/sl46_1.png"
   ]
  },
  {
   "cell_type": "markdown",
   "metadata": {},
   "source": [
    "Если на данном примере мы стартуем на нулевых весах, то w2 и w3 будут обновляться симметрично, а, значит, мы не научим никакую сложную комбинацию за счёт простоты сети. Это называют симметрией. \n",
    "\n",
    "Чтобы сломать симметрию, мы можем использовать случайный шум. \n",
    "\n"
   ]
  },
  {
   "cell_type": "markdown",
   "metadata": {},
   "source": [
    "Дополнительные материалы\n",
    "\n",
    "nlp\t\n",
    "В качестве дополнительной литературы рекомендуем вам прочесть статью «Step-by-step backpropagation example»\n",
    "\n"
   ]
  },
  {
   "cell_type": "markdown",
   "metadata": {},
   "source": [
    "https://mattmazur.com/2015/03/17/a-step-by-step-backpropagation-example/"
   ]
  },
  {
   "cell_type": "markdown",
   "metadata": {},
   "source": []
  }
 ],
 "metadata": {
  "kernelspec": {
   "display_name": ".venv",
   "language": "python",
   "name": "python3"
  },
  "language_info": {
   "name": "python",
   "version": "3.9.6"
  }
 },
 "nbformat": 4,
 "nbformat_minor": 2
}
