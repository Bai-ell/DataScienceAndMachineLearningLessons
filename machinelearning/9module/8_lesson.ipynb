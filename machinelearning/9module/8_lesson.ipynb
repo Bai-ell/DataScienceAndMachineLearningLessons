{
 "cells": [
  {
   "cell_type": "code",
   "execution_count": 1,
   "metadata": {},
   "outputs": [],
   "source": [
    "import pandas as pd"
   ]
  },
  {
   "cell_type": "code",
   "execution_count": 3,
   "metadata": {},
   "outputs": [],
   "source": [
    "data_all =[]\n",
    "for i in range(4):\n",
    "    data= pd.read_csv('/Users/apple/python/SkillFactory/Ml_learning/9module/archive/combined_data_' + str(i+1) + '.txt', header=None,names = ['Cust_Id', 'Rating'], usecols = [0,1])\n",
    "    data_all.append(data)"
   ]
  },
  {
   "cell_type": "code",
   "execution_count": 4,
   "metadata": {},
   "outputs": [],
   "source": [
    "df = pd.concat(data_all)"
   ]
  },
  {
   "cell_type": "code",
   "execution_count": 24,
   "metadata": {},
   "outputs": [
    {
     "name": "stdout",
     "output_type": "stream",
     "text": [
      "Full dataset shape: (100480507, 3)\n",
      "-Dataset examples-\n",
      "           Cust_Id  Rating  Movie_Id\n",
      "0          1488844     3.0         1\n",
      "5000000     501954     2.0       996\n",
      "10000000    404654     5.0      1962\n",
      "15000000    886608     2.0      2876\n",
      "20000000   1193835     2.0      3825\n",
      "25000000   1899206     3.0      4661\n",
      "30000000    154804     4.0      5496\n",
      "35000000   2078749     5.0      6274\n",
      "40000000    450763     5.0      7057\n",
      "45000000    102092     3.0      7991\n",
      "50000000    220298     5.0      9023\n",
      "55000000    550530     5.0     10042\n",
      "60000000    222570     3.0     11038\n",
      "65000000   1273080     5.0     11875\n",
      "70000000   2026970     5.0     12676\n",
      "75000000    506044     4.0     13582\n",
      "80000000    353605     2.0     14453\n",
      "85000000    664606     3.0     15116\n",
      "90000000   2213715     3.0     16008\n",
      "95000000   1589401     5.0     16879\n",
      "100000000  2314006     4.0     17627\n"
     ]
    },
    {
     "data": {
      "text/plain": [
       "17770"
      ]
     },
     "execution_count": 24,
     "metadata": {},
     "output_type": "execute_result"
    }
   ],
   "source": [
    "import numpy as np\n",
    "df.index = np.arange(0,len(df))\n",
    "print('Full dataset shape: {}'.format(df.shape))\n",
    "print('-Dataset examples-')\n",
    "print(df.iloc[::5000000, :])\n",
    "df.Movie_Id.nunique()"
   ]
  },
  {
   "cell_type": "code",
   "execution_count": 6,
   "metadata": {},
   "outputs": [
    {
     "data": {
      "text/plain": [
       "(100498277, 2)"
      ]
     },
     "execution_count": 6,
     "metadata": {},
     "output_type": "execute_result"
    }
   ],
   "source": [
    "df.shape\n"
   ]
  },
  {
   "cell_type": "code",
   "execution_count": 26,
   "metadata": {},
   "outputs": [],
   "source": [
    "cust_sample= df.Cust_Id.sample(10000)"
   ]
  },
  {
   "cell_type": "code",
   "execution_count": 27,
   "metadata": {},
   "outputs": [],
   "source": [
    "movie_sample = df.Movie_Id.sample(5000)"
   ]
  },
  {
   "cell_type": "code",
   "execution_count": 7,
   "metadata": {},
   "outputs": [],
   "source": [
    "import numpy as np\n",
    "df_nan = pd.DataFrame(pd.isnull(df.Rating))\n",
    "df_nan = df_nan[df_nan['Rating'] == True]\n",
    "df_nan = df_nan.reset_index()\n",
    "\n",
    "movie_np = []\n",
    "movie_id = 1\n",
    "\n",
    "for i,j in zip(df_nan['index'][1:],df_nan['index'][:-1]):\n",
    "    # numpy approach\n",
    "    temp = np.full((1,np.abs(i-j-1)), movie_id)\n",
    "    movie_np = np.append(movie_np, temp)\n",
    "    movie_id += 1\n",
    "\n",
    "# Account for last record and corresponding length\n",
    "# numpy approach\n",
    "last_record = np.full((1,len(df) - df_nan.iloc[-1, 0] - 1),movie_id)\n",
    "movie_np = np.append(movie_np, last_record)"
   ]
  },
  {
   "cell_type": "code",
   "execution_count": 8,
   "metadata": {},
   "outputs": [
    {
     "name": "stdout",
     "output_type": "stream",
     "text": [
      "-Dataset examples-\n",
      "          Cust_Id  Rating  Movie_Id\n",
      "6465411    390445     4.0      1267\n",
      "18475848  1779412     4.0      3538\n",
      "26306613  2300041     3.0      4884\n"
     ]
    }
   ],
   "source": [
    "df = df[pd.notnull(df['Rating'])]\n",
    "\n",
    "df['Movie_Id'] = movie_np.astype(int)\n",
    "df['Cust_Id'] = df['Cust_Id'].astype(int)\n",
    "print('-Dataset examples-')\n",
    "print(df.sample(3))"
   ]
  },
  {
   "cell_type": "code",
   "execution_count": 11,
   "metadata": {},
   "outputs": [
    {
     "data": {
      "text/html": [
       "<div>\n",
       "<style scoped>\n",
       "    .dataframe tbody tr th:only-of-type {\n",
       "        vertical-align: middle;\n",
       "    }\n",
       "\n",
       "    .dataframe tbody tr th {\n",
       "        vertical-align: top;\n",
       "    }\n",
       "\n",
       "    .dataframe thead th {\n",
       "        text-align: right;\n",
       "    }\n",
       "</style>\n",
       "<table border=\"1\" class=\"dataframe\">\n",
       "  <thead>\n",
       "    <tr style=\"text-align: right;\">\n",
       "      <th></th>\n",
       "      <th>Cust_Id</th>\n",
       "      <th>Rating</th>\n",
       "      <th>Movie_Id</th>\n",
       "    </tr>\n",
       "  </thead>\n",
       "  <tbody>\n",
       "    <tr>\n",
       "      <th>1</th>\n",
       "      <td>1488844</td>\n",
       "      <td>3.0</td>\n",
       "      <td>1</td>\n",
       "    </tr>\n",
       "    <tr>\n",
       "      <th>2</th>\n",
       "      <td>822109</td>\n",
       "      <td>5.0</td>\n",
       "      <td>1</td>\n",
       "    </tr>\n",
       "    <tr>\n",
       "      <th>3</th>\n",
       "      <td>885013</td>\n",
       "      <td>4.0</td>\n",
       "      <td>1</td>\n",
       "    </tr>\n",
       "    <tr>\n",
       "      <th>4</th>\n",
       "      <td>30878</td>\n",
       "      <td>4.0</td>\n",
       "      <td>1</td>\n",
       "    </tr>\n",
       "    <tr>\n",
       "      <th>5</th>\n",
       "      <td>823519</td>\n",
       "      <td>3.0</td>\n",
       "      <td>1</td>\n",
       "    </tr>\n",
       "  </tbody>\n",
       "</table>\n",
       "</div>"
      ],
      "text/plain": [
       "   Cust_Id  Rating  Movie_Id\n",
       "1  1488844     3.0         1\n",
       "2   822109     5.0         1\n",
       "3   885013     4.0         1\n",
       "4    30878     4.0         1\n",
       "5   823519     3.0         1"
      ]
     },
     "execution_count": 11,
     "metadata": {},
     "output_type": "execute_result"
    }
   ],
   "source": [
    "df.head()"
   ]
  },
  {
   "cell_type": "code",
   "execution_count": 12,
   "metadata": {},
   "outputs": [],
   "source": [
    "good = df[df['Rating']==5].groupby('Cust_Id')['Movie_Id'].apply(lambda r: ' '.join([str(A) for A in r]))"
   ]
  },
  {
   "cell_type": "code",
   "execution_count": 13,
   "metadata": {},
   "outputs": [
    {
     "data": {
      "text/plain": [
       "Cust_Id\n",
       "6     175 457 886 1467 2372 2452 2782 3290 4043 4633...\n",
       "7     8 30 83 175 257 283 285 313 357 457 458 468 50...\n",
       "8     1202 1799 1905 2186 3610 3925 4306 5054 5317 5...\n",
       "10    473 985 1542 1905 2172 3124 3371 3962 4043 430...\n",
       "25                4432 6786 7605 9326 10643 15107 15270\n",
       "Name: Movie_Id, dtype: object"
      ]
     },
     "execution_count": 13,
     "metadata": {},
     "output_type": "execute_result"
    }
   ],
   "source": [
    "good.head()"
   ]
  },
  {
   "cell_type": "code",
   "execution_count": 15,
   "metadata": {},
   "outputs": [],
   "source": [
    "import apyori"
   ]
  },
  {
   "cell_type": "code",
   "execution_count": 16,
   "metadata": {},
   "outputs": [],
   "source": [
    "association_rules = apyori.apriori(good.apply(lambda r: r.split(' ')), \n",
    "                                   min_support=0.04, \n",
    "                                   min_confidence=0.1, min_lift=2, \n",
    "                                   min_length=2)"
   ]
  },
  {
   "cell_type": "code",
   "execution_count": 17,
   "metadata": {},
   "outputs": [
    {
     "data": {
      "text/plain": [
       "<generator object apriori at 0x3649d4430>"
      ]
     },
     "execution_count": 17,
     "metadata": {},
     "output_type": "execute_result"
    }
   ],
   "source": [
    "association_rules"
   ]
  },
  {
   "cell_type": "code",
   "execution_count": 18,
   "metadata": {},
   "outputs": [],
   "source": [
    "asr_df = pd.DataFrame(columns = ['from', 'to', 'confidence', 'support', 'lift'])\n",
    "for item in association_rules:\n",
    "    pair = item[0] \n",
    "    items = [x for x in pair]\n",
    "    asr_df.loc[len(asr_df), :] =  ' '.join(list(item[2][0][0])), \\\n",
    "                                  ' '.join(list(item[2][0][1])),\\\n",
    "                                  item[2][0][2], item[1], item[2][0][3]"
   ]
  },
  {
   "cell_type": "code",
   "execution_count": 19,
   "metadata": {},
   "outputs": [
    {
     "data": {
      "text/html": [
       "<div>\n",
       "<style scoped>\n",
       "    .dataframe tbody tr th:only-of-type {\n",
       "        vertical-align: middle;\n",
       "    }\n",
       "\n",
       "    .dataframe tbody tr th {\n",
       "        vertical-align: top;\n",
       "    }\n",
       "\n",
       "    .dataframe thead th {\n",
       "        text-align: right;\n",
       "    }\n",
       "</style>\n",
       "<table border=\"1\" class=\"dataframe\">\n",
       "  <thead>\n",
       "    <tr style=\"text-align: right;\">\n",
       "      <th></th>\n",
       "      <th>from</th>\n",
       "      <th>to</th>\n",
       "      <th>confidence</th>\n",
       "      <th>support</th>\n",
       "      <th>lift</th>\n",
       "    </tr>\n",
       "  </thead>\n",
       "  <tbody>\n",
       "    <tr>\n",
       "      <th>0</th>\n",
       "      <td>10042</td>\n",
       "      <td>10820</td>\n",
       "      <td>0.266215</td>\n",
       "      <td>0.041573</td>\n",
       "      <td>4.110222</td>\n",
       "    </tr>\n",
       "    <tr>\n",
       "      <th>1</th>\n",
       "      <td>10042</td>\n",
       "      <td>10947</td>\n",
       "      <td>0.351478</td>\n",
       "      <td>0.054888</td>\n",
       "      <td>2.421943</td>\n",
       "    </tr>\n",
       "    <tr>\n",
       "      <th>2</th>\n",
       "      <td>10042</td>\n",
       "      <td>11064</td>\n",
       "      <td>0.348135</td>\n",
       "      <td>0.054366</td>\n",
       "      <td>2.300702</td>\n",
       "    </tr>\n",
       "    <tr>\n",
       "      <th>3</th>\n",
       "      <td>10042</td>\n",
       "      <td>11089</td>\n",
       "      <td>0.331616</td>\n",
       "      <td>0.051786</td>\n",
       "      <td>2.488266</td>\n",
       "    </tr>\n",
       "    <tr>\n",
       "      <th>4</th>\n",
       "      <td>10042</td>\n",
       "      <td>11283</td>\n",
       "      <td>0.454613</td>\n",
       "      <td>0.070994</td>\n",
       "      <td>2.206234</td>\n",
       "    </tr>\n",
       "    <tr>\n",
       "      <th>...</th>\n",
       "      <td>...</td>\n",
       "      <td>...</td>\n",
       "      <td>...</td>\n",
       "      <td>...</td>\n",
       "      <td>...</td>\n",
       "    </tr>\n",
       "    <tr>\n",
       "      <th>2018</th>\n",
       "      <td>11521</td>\n",
       "      <td>16265 2452 7057 7230 14961 5582</td>\n",
       "      <td>0.199233</td>\n",
       "      <td>0.041485</td>\n",
       "      <td>4.630662</td>\n",
       "    </tr>\n",
       "    <tr>\n",
       "      <th>2019</th>\n",
       "      <td>11521</td>\n",
       "      <td>2452 7057 7230 9628 14961 5582</td>\n",
       "      <td>0.195898</td>\n",
       "      <td>0.04079</td>\n",
       "      <td>4.63469</td>\n",
       "    </tr>\n",
       "    <tr>\n",
       "      <th>2020</th>\n",
       "      <td>14240</td>\n",
       "      <td>16265 2452 7057 7230 14961 5582</td>\n",
       "      <td>0.208372</td>\n",
       "      <td>0.041711</td>\n",
       "      <td>4.843073</td>\n",
       "    </tr>\n",
       "    <tr>\n",
       "      <th>2021</th>\n",
       "      <td>14240</td>\n",
       "      <td>2452 7057 7230 9628 14961 5582</td>\n",
       "      <td>0.204569</td>\n",
       "      <td>0.04095</td>\n",
       "      <td>4.839831</td>\n",
       "    </tr>\n",
       "    <tr>\n",
       "      <th>2022</th>\n",
       "      <td>11521</td>\n",
       "      <td>14240 16265 2452 7057 7230 14961 5582</td>\n",
       "      <td>0.194634</td>\n",
       "      <td>0.040527</td>\n",
       "      <td>4.666226</td>\n",
       "    </tr>\n",
       "  </tbody>\n",
       "</table>\n",
       "<p>2023 rows × 5 columns</p>\n",
       "</div>"
      ],
      "text/plain": [
       "       from                                     to confidence   support  \\\n",
       "0     10042                                  10820   0.266215  0.041573   \n",
       "1     10042                                  10947   0.351478  0.054888   \n",
       "2     10042                                  11064   0.348135  0.054366   \n",
       "3     10042                                  11089   0.331616  0.051786   \n",
       "4     10042                                  11283   0.454613  0.070994   \n",
       "...     ...                                    ...        ...       ...   \n",
       "2018  11521        16265 2452 7057 7230 14961 5582   0.199233  0.041485   \n",
       "2019  11521         2452 7057 7230 9628 14961 5582   0.195898   0.04079   \n",
       "2020  14240        16265 2452 7057 7230 14961 5582   0.208372  0.041711   \n",
       "2021  14240         2452 7057 7230 9628 14961 5582   0.204569   0.04095   \n",
       "2022  11521  14240 16265 2452 7057 7230 14961 5582   0.194634  0.040527   \n",
       "\n",
       "          lift  \n",
       "0     4.110222  \n",
       "1     2.421943  \n",
       "2     2.300702  \n",
       "3     2.488266  \n",
       "4     2.206234  \n",
       "...        ...  \n",
       "2018  4.630662  \n",
       "2019   4.63469  \n",
       "2020  4.843073  \n",
       "2021  4.839831  \n",
       "2022  4.666226  \n",
       "\n",
       "[2023 rows x 5 columns]"
      ]
     },
     "execution_count": 19,
     "metadata": {},
     "output_type": "execute_result"
    }
   ],
   "source": [
    "asr_df"
   ]
  },
  {
   "cell_type": "code",
   "execution_count": 20,
   "metadata": {},
   "outputs": [
    {
     "data": {
      "text/html": [
       "<div>\n",
       "<style scoped>\n",
       "    .dataframe tbody tr th:only-of-type {\n",
       "        vertical-align: middle;\n",
       "    }\n",
       "\n",
       "    .dataframe tbody tr th {\n",
       "        vertical-align: top;\n",
       "    }\n",
       "\n",
       "    .dataframe thead th {\n",
       "        text-align: right;\n",
       "    }\n",
       "</style>\n",
       "<table border=\"1\" class=\"dataframe\">\n",
       "  <thead>\n",
       "    <tr style=\"text-align: right;\">\n",
       "      <th></th>\n",
       "      <th>from</th>\n",
       "      <th>to</th>\n",
       "      <th>confidence</th>\n",
       "      <th>support</th>\n",
       "      <th>lift</th>\n",
       "    </tr>\n",
       "  </thead>\n",
       "  <tbody>\n",
       "    <tr>\n",
       "      <th>1881</th>\n",
       "      <td>14961</td>\n",
       "      <td>16265 2452 7057 7230</td>\n",
       "      <td>0.375413</td>\n",
       "      <td>0.046806</td>\n",
       "      <td>7.368337</td>\n",
       "    </tr>\n",
       "    <tr>\n",
       "      <th>2000</th>\n",
       "      <td>14961</td>\n",
       "      <td>16265 7057 7230 9628 5582</td>\n",
       "      <td>0.330554</td>\n",
       "      <td>0.041213</td>\n",
       "      <td>7.380208</td>\n",
       "    </tr>\n",
       "    <tr>\n",
       "      <th>1999</th>\n",
       "      <td>14961</td>\n",
       "      <td>16265 2452 7057 7230 5582</td>\n",
       "      <td>0.345086</td>\n",
       "      <td>0.043025</td>\n",
       "      <td>7.395181</td>\n",
       "    </tr>\n",
       "    <tr>\n",
       "      <th>325</th>\n",
       "      <td>14454</td>\n",
       "      <td>457</td>\n",
       "      <td>0.631952</td>\n",
       "      <td>0.060757</td>\n",
       "      <td>7.406606</td>\n",
       "    </tr>\n",
       "    <tr>\n",
       "      <th>1187</th>\n",
       "      <td>7057</td>\n",
       "      <td>9628 7230</td>\n",
       "      <td>0.449937</td>\n",
       "      <td>0.056266</td>\n",
       "      <td>7.434794</td>\n",
       "    </tr>\n",
       "    <tr>\n",
       "      <th>143</th>\n",
       "      <td>11443</td>\n",
       "      <td>17627</td>\n",
       "      <td>0.734164</td>\n",
       "      <td>0.065722</td>\n",
       "      <td>7.958336</td>\n",
       "    </tr>\n",
       "    <tr>\n",
       "      <th>768</th>\n",
       "      <td>11443</td>\n",
       "      <td>2452 17627</td>\n",
       "      <td>0.463653</td>\n",
       "      <td>0.041506</td>\n",
       "      <td>8.6031</td>\n",
       "    </tr>\n",
       "    <tr>\n",
       "      <th>764</th>\n",
       "      <td>11443</td>\n",
       "      <td>11521 17627</td>\n",
       "      <td>0.465292</td>\n",
       "      <td>0.041653</td>\n",
       "      <td>8.756512</td>\n",
       "    </tr>\n",
       "    <tr>\n",
       "      <th>766</th>\n",
       "      <td>11443</td>\n",
       "      <td>12338 17627</td>\n",
       "      <td>0.490663</td>\n",
       "      <td>0.043924</td>\n",
       "      <td>9.478307</td>\n",
       "    </tr>\n",
       "    <tr>\n",
       "      <th>313</th>\n",
       "      <td>14302</td>\n",
       "      <td>16147</td>\n",
       "      <td>0.741323</td>\n",
       "      <td>0.040359</td>\n",
       "      <td>12.719342</td>\n",
       "    </tr>\n",
       "  </tbody>\n",
       "</table>\n",
       "</div>"
      ],
      "text/plain": [
       "       from                         to confidence   support       lift\n",
       "1881  14961       16265 2452 7057 7230   0.375413  0.046806   7.368337\n",
       "2000  14961  16265 7057 7230 9628 5582   0.330554  0.041213   7.380208\n",
       "1999  14961  16265 2452 7057 7230 5582   0.345086  0.043025   7.395181\n",
       "325   14454                        457   0.631952  0.060757   7.406606\n",
       "1187   7057                  9628 7230   0.449937  0.056266   7.434794\n",
       "143   11443                      17627   0.734164  0.065722   7.958336\n",
       "768   11443                 2452 17627   0.463653  0.041506     8.6031\n",
       "764   11443                11521 17627   0.465292  0.041653   8.756512\n",
       "766   11443                12338 17627   0.490663  0.043924   9.478307\n",
       "313   14302                      16147   0.741323  0.040359  12.719342"
      ]
     },
     "execution_count": 20,
     "metadata": {},
     "output_type": "execute_result"
    }
   ],
   "source": [
    "asr_df.sort_values('lift').tail(10)"
   ]
  },
  {
   "cell_type": "code",
   "execution_count": null,
   "metadata": {},
   "outputs": [],
   "source": []
  }
 ],
 "metadata": {
  "kernelspec": {
   "display_name": ".venv",
   "language": "python",
   "name": "python3"
  },
  "language_info": {
   "codemirror_mode": {
    "name": "ipython",
    "version": 3
   },
   "file_extension": ".py",
   "mimetype": "text/x-python",
   "name": "python",
   "nbconvert_exporter": "python",
   "pygments_lexer": "ipython3",
   "version": "3.9.6"
  }
 },
 "nbformat": 4,
 "nbformat_minor": 2
}
