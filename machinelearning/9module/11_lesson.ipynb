{
 "cells": [
  {
   "cell_type": "markdown",
   "metadata": {},
   "source": [
    "Нейронные сети позволяют решать сложные задачи более эффективно, точно и качественно.\n",
    "\n",
    "Модель перцептрона"
   ]
  },
  {
   "cell_type": "markdown",
   "metadata": {},
   "source": [
    "https://lms-cdn.skillfactory.ru/assets/courseware/v1/6b662e312a1d0b513019844141f4e97f/asset-v1:SkillFactory+MLDL+ALWAYS+type@asset+block/ml9_10.png"
   ]
  },
  {
   "cell_type": "markdown",
   "metadata": {},
   "source": [
    "В основе нейронных сетей лежат нейроны. К ним приходит сигнал от других нейронов по дендритам. И если сигнал превосходит некий пороговый уровень то он распространяется далее по аксонам к следующим нейронам.\n",
    "\n",
    "Этот принцип легко описывается математически и сеть из набора нейронов может быть обучена. Не сразу был обнаружен метод обучения глубоких нейронных сетей, но сейчас метод Обратного распространения ошибки используется повсеместно.\n",
    "\n",
    "Обратное распространение ошибки"
   ]
  },
  {
   "cell_type": "markdown",
   "metadata": {},
   "source": [
    "https://lms-cdn.skillfactory.ru/assets/courseware/v1/45b82021ad194b044eb953e38cee5043/asset-v1:SkillFactory+MLDL+ALWAYS+type@asset+block/ml9_12.png"
   ]
  },
  {
   "cell_type": "markdown",
   "metadata": {},
   "source": [
    "Благодаря методу обратного распространения ошибки удается обучать различные архитектуры нейронных сетей и решать задачи распознавания образов на изображениях, с помощью сверточных нейронных сетей, или решать задачи обработки текста, с помощью рекуррентных нейронных сетей. \n",
    "\n",
    "\n",
    "Иерархия представлений"
   ]
  },
  {
   "cell_type": "markdown",
   "metadata": {},
   "source": [
    "https://lms-cdn.skillfactory.ru/assets/courseware/v1/1153986d601b201413fa311045315b60/asset-v1:SkillFactory+MLDL+ALWAYS+type@asset+block/ml9_13.png"
   ]
  },
  {
   "cell_type": "markdown",
   "metadata": {},
   "source": [
    "Recurrent Neural Network"
   ]
  },
  {
   "cell_type": "markdown",
   "metadata": {},
   "source": [
    "https://lms-cdn.skillfactory.ru/assets/courseware/v1/8bb0c9f0f982aeecd3421430b31c8fec/asset-v1:SkillFactory+MLDL+ALWAYS+type@asset+block/ml9_14.png"
   ]
  },
  {
   "cell_type": "markdown",
   "metadata": {},
   "source": [
    "Long short term memory\n",
    "\n",
    "Существует модификация рекуррентных нейронных сетей на основе ячейки памяти LSTM, которая позволяет получать нетривиальные предсказания для последовательности событий."
   ]
  },
  {
   "cell_type": "markdown",
   "metadata": {},
   "source": [
    "https://lms-cdn.skillfactory.ru/assets/courseware/v1/86e6b5862527cacfa08a0240f2055897/asset-v1:SkillFactory+MLDL+ALWAYS+type@asset+block/ml9_15.png\n"
   ]
  },
  {
   "cell_type": "markdown",
   "metadata": {},
   "source": []
  }
 ],
 "metadata": {
  "language_info": {
   "name": "python"
  }
 },
 "nbformat": 4,
 "nbformat_minor": 2
}
