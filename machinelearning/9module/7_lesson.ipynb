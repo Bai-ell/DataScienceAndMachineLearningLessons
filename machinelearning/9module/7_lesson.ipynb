{
 "cells": [
  {
   "cell_type": "markdown",
   "metadata": {},
   "source": [
    "9.7. Алгоритмы SVD и ALS"
   ]
  },
  {
   "cell_type": "markdown",
   "metadata": {},
   "source": [
    "Singular Value Decomposition (SVD)\n",
    "\n",
    "В теореме о сингулярном разложении утверждается, что у любой матрицы размера × существует разложение в произведение трех матриц  "
   ]
  },
  {
   "cell_type": "markdown",
   "metadata": {},
   "source": [
    "В теореме о сингулярном разложении утверждается, что у любой матрицы размера × существует разложение в произведение трех матриц  U,\\ \\Sigma,\\ V^{T}:\n",
    "\n",
    "\n",
    "\n",
    "Матрицы U и V ортогональные, а Ʃ — диагональная\n",
    "\n",
    "Усеченное разложение — из лямбд остаются только первые чисел, остальные равны нулю.\n",
    "\n",
    "У нас была матрица, мы разложили ее в произведение трех (двух) матриц, причем разложили приблизительно. \n",
    "\n",
    "Теперь чтобы предсказать оценку пользователя для фильма , мы:\n",
    "\n",
    "берем некоторый вектор (набор параметров) для данного пользователя \n",
    "берем вектор для данного фильма . \n",
    "Их скалярное произведение и будет нужным нам предсказанием:"
   ]
  },
  {
   "cell_type": "markdown",
   "metadata": {},
   "source": [
    "https://lms-cdn.skillfactory.ru/assets/courseware/v1/be18250d5b2ade2a476c066aea4bc447/asset-v1:SkillFactory+MLDL+ALWAYS+type@asset+block/ml9_7.png"
   ]
  },
  {
   "cell_type": "markdown",
   "metadata": {},
   "source": [
    "Алгоритм достаточно простой, но дает удивительно хорошие результаты\n",
    "\n",
    "Почему сразу не сделать SVD:\n",
    "\n",
    "матрица оценок нам полностью не известна\n",
    "SVD-разложение не единственное \n",
    "У нас есть оценки пользователей, при помощи которых мы можем найти такие оптимальные параметры, при которых модель предсказывала бы эти оценки как можно лучше:\n",
    "\n",
    "E_{(u,i)}(\\hat{r_{ui}(\\Theta )-r_{ui})^{2}\\rightarrow \\underset{\\Theta}{\\min}}\n",
    "\n",
    "Мы хотим найти такие параметры θ, чтобы квадрат ошибки был как можно меньше. \n",
    "\n",
    "Парадокс: мы хотим меньше ошибаться в будущем, но мы не знаем, какие оценки у нас будут спрашивать. И оптимизировать это мы не можем. \n",
    "\n",
    "Но нам известны уже проставленные пользователями оценки. Попробуем подобрать параметры так, чтобы на тех оценках, которые у нас уже есть, ошибка была как можно меньше:"
   ]
  },
  {
   "cell_type": "markdown",
   "metadata": {},
   "source": [
    "https://lms-cdn.skillfactory.ru/assets/courseware/v1/ffc459cd618567e6f25e6b06b2f63cf3/asset-v1:SkillFactory+MLDL+ALWAYS+type@asset+block/ml9_8.png"
   ]
  },
  {
   "cell_type": "markdown",
   "metadata": {},
   "source": [
    "Alternating Least Squares (ALS)\n",
    "\n",
    "ALS — итеративный алгоритм разложения матрицы предпочтений на произведение 2 матриц: \n",
    "\n",
    "факторов пользователей (U) \n",
    "факторов товаров (I).\n",
    "Работает по принципу минимизации среднеквадратичной ошибки на проставленных рейтингах. "
   ]
  },
  {
   "cell_type": "markdown",
   "metadata": {},
   "source": [
    "https://lms-cdn.skillfactory.ru/assets/courseware/v1/c562d6f789e6fbf3ad240d855f5a1eb9/asset-v1:SkillFactory+MLDL+ALWAYS+type@asset+block/ml9_9_1.png\n"
   ]
  },
  {
   "cell_type": "markdown",
   "metadata": {},
   "source": [
    "Оптимизация происходит поочередно:\n",
    "\n",
    "сначала по факторам пользователей\n",
    "потом по факторам товаров.\n",
    "Для обхода переобучения, к ошибке добавляются регуляризационные коэффициенты.\n",
    "\n",
    "А если предпочтения меняются?\n",
    "\n",
    "Матрица предпочтений отражает предпочтения «в плоскости»\n",
    "Матрица предпочтений не отражает изменения предпочтений во времени\n",
    "Матрица предпочтений не учитывает близость продуктов по  составу/цели/назначению"
   ]
  },
  {
   "cell_type": "markdown",
   "metadata": {},
   "source": []
  },
  {
   "cell_type": "code",
   "execution_count": 1,
   "metadata": {},
   "outputs": [],
   "source": [
    "import numpy as np\n",
    "import scipy.linalg\n",
    "\n",
    "# Матрица пользователь-фильм\n",
    "user_movie_matrix = np.array([[1, 5, 0, 5, 4],\n",
    "                              [5, 4, 4, 3, 2],\n",
    "                              [0, 4, 0, 0, 5],\n",
    "                              [4, 4, 1, 4, 0],\n",
    "                              [0, 4, 3, 5, 0],\n",
    "                              [2, 4, 3, 5, 3]])"
   ]
  },
  {
   "cell_type": "code",
   "execution_count": 2,
   "metadata": {},
   "outputs": [],
   "source": [
    "# Применение SVD разложения\n",
    "U, s, Vt = scipy.linalg.svd(user_movie_matrix)\n",
    "\n",
    "# Преобразование s в диагональную матрицу\n",
    "Sigma = np.diag(s)\n"
   ]
  },
  {
   "cell_type": "code",
   "execution_count": 3,
   "metadata": {},
   "outputs": [
    {
     "name": "stdout",
     "output_type": "stream",
     "text": [
      "U matrix:\n",
      " [[-0.45995612  0.39643205  0.30008466 -0.43188307  0.32259944 -0.5006374 ]\n",
      " [-0.46080622 -0.30693176 -0.6474524   0.28369822  0.01979887 -0.43974907]\n",
      " [-0.24879658  0.7546451  -0.27901701  0.15629367 -0.46458544  0.22470694]\n",
      " [-0.38343916 -0.34546491 -0.13187024 -0.68331121 -0.32184406  0.38176018]\n",
      " [-0.37621687 -0.24437478  0.62120015  0.38026413 -0.50209455 -0.12709231]\n",
      " [-0.47500898 -0.00895923  0.09810557  0.31152785  0.56922355  0.58617101]]\n",
      "Sigma matrix:\n",
      " [[16.46644354  0.          0.          0.          0.        ]\n",
      " [ 0.          6.21001334  0.          0.          0.        ]\n",
      " [ 0.          0.          4.39908461  0.          0.        ]\n",
      " [ 0.          0.          0.          2.90336429  0.        ]\n",
      " [ 0.          0.          0.          0.          1.58445634]]\n",
      "V^T matrix:\n",
      " [[-0.31869431 -0.61196286 -0.29030808 -0.57523564 -0.32978869]\n",
      " [-0.40869555  0.22187036 -0.37571481 -0.25558153  0.75977493]\n",
      " [-0.74298347  0.03279947 -0.12815454  0.59719556 -0.27172346]\n",
      " [-0.38699282 -0.12589696  0.87032055 -0.2006657   0.19147306]\n",
      " [ 0.17208719 -0.74789649 -0.02604148  0.4548327   0.45109412]]\n"
     ]
    }
   ],
   "source": [
    "print(\"U matrix:\\n\", U)\n",
    "print(\"Sigma matrix:\\n\", Sigma)\n",
    "print(\"V^T matrix:\\n\", Vt)\n"
   ]
  },
  {
   "cell_type": "code",
   "execution_count": 5,
   "metadata": {},
   "outputs": [
    {
     "name": "stdout",
     "output_type": "stream",
     "text": [
      "Restored matrix:\n",
      " [[1.00000000e+00 5.00000000e+00 3.10862447e-15 5.00000000e+00\n",
      "  4.00000000e+00]\n",
      " [5.00000000e+00 4.00000000e+00 4.00000000e+00 3.00000000e+00\n",
      "  2.00000000e+00]\n",
      " [8.88178420e-16 4.00000000e+00 3.77475828e-15 2.66453526e-15\n",
      "  5.00000000e+00]\n",
      " [4.00000000e+00 4.00000000e+00 1.00000000e+00 4.00000000e+00\n",
      "  5.34091226e-16]\n",
      " [2.10942375e-15 4.00000000e+00 3.00000000e+00 5.00000000e+00\n",
      "  3.13562695e-15]\n",
      " [2.00000000e+00 4.00000000e+00 3.00000000e+00 5.00000000e+00\n",
      "  3.00000000e+00]]\n"
     ]
    }
   ],
   "source": [
    "import numpy as np\n",
    "import scipy.linalg\n",
    "\n",
    "# Матрица пользователь-фильм\n",
    "user_movie_matrix = np.array([[1, 5, 0, 5, 4],\n",
    "                              [5, 4, 4, 3, 2],\n",
    "                              [0, 4, 0, 0, 5],\n",
    "                              [4, 4, 1, 4, 0],\n",
    "                              [0, 4, 3, 5, 0],\n",
    "                              [2, 4, 3, 5, 3]])\n",
    "\n",
    "# Применение SVD разложения\n",
    "U, s, Vt = scipy.linalg.svd(user_movie_matrix)\n",
    "\n",
    "# Создание расширенной диагональной матрицы Sigma размером (6, 5)\n",
    "Sigma = np.zeros((U.shape[0], Vt.shape[0]))  # Создаём нулевую матрицу размером 6x5\n",
    "np.fill_diagonal(Sigma, s)  # Заполняем диагональ сингулярными числами\n",
    "\n",
    "# Восстановление исходной матрицы\n",
    "M_restored = np.dot(U, np.dot(Sigma, Vt))\n",
    "print(\"Restored matrix:\\n\", M_restored)\n"
   ]
  },
  {
   "cell_type": "code",
   "execution_count": 6,
   "metadata": {},
   "outputs": [
    {
     "name": "stdout",
     "output_type": "stream",
     "text": [
      "User 2 in reduced space: [-7.58783957 -1.90605029]\n",
      "Restored user 2 ratings: [3.19719556 4.22057993 2.91894245 4.851947   1.05421441]\n"
     ]
    }
   ],
   "source": [
    "import numpy as np\n",
    "import scipy.linalg\n",
    "\n",
    "# Матрица пользователь-фильм\n",
    "user_movie_matrix = np.array([[1, 5, 0, 5, 4],\n",
    "                              [5, 4, 4, 3, 2],\n",
    "                              [0, 4, 0, 0, 5],\n",
    "                              [4, 4, 1, 4, 0],\n",
    "                              [0, 4, 3, 5, 0],\n",
    "                              [2, 4, 3, 5, 3]])\n",
    "\n",
    "# Применение SVD разложения\n",
    "U, s, Vt = scipy.linalg.svd(user_movie_matrix)\n",
    "\n",
    "# Сокращение размерности до 2х компонент\n",
    "U_reduced = U[:, :2]       # Первые две колонки матрицы U\n",
    "Sigma_reduced = np.diag(s[:2])  # Первые два сингулярных числа\n",
    "Vt_reduced = Vt[:2, :]     # Первые две строки матрицы Vt\n",
    "\n",
    "# Выбор 2-й строки из исходной матрицы (пользователь №2)\n",
    "user_2 = user_movie_matrix[1, :]  # Вектор пользователя №2\n",
    "\n",
    "# Перевод пользователя №2 в новое представление сниженной размерности\n",
    "user_2_reduced = np.dot(user_2, Vt_reduced.T)  # Перемножаем на транспонированную сокращённую матрицу фильмов\n",
    "print(\"User 2 in reduced space:\", user_2_reduced)\n",
    "\n",
    "# Обратная трансформация в исходное пространство оценок фильмов\n",
    "user_2_restored = np.dot(user_2_reduced, Vt_reduced)  # Перемножаем обратно на матрицу фильмов\n",
    "print(\"Restored user 2 ratings:\", user_2_restored)\n"
   ]
  },
  {
   "cell_type": "code",
   "execution_count": 7,
   "metadata": {},
   "outputs": [
    {
     "name": "stdout",
     "output_type": "stream",
     "text": [
      "New user in reduced space: [-3.17186679 -2.14947056  2.00431861]\n",
      "Restored ratings for new user: [ 0.40015936  1.52990144  1.47154395  3.57090597 -1.13168846]\n",
      "Index of the best movie for the new user: 1\n"
     ]
    }
   ],
   "source": [
    "import numpy as np\n",
    "import scipy.linalg\n",
    "\n",
    "# Матрица пользователь-фильм\n",
    "user_movie_matrix = np.array([[1, 5, 0, 5, 4],\n",
    "                              [5, 4, 4, 3, 2],\n",
    "                              [0, 4, 0, 0, 5],\n",
    "                              [4, 4, 1, 4, 0],\n",
    "                              [0, 4, 3, 5, 0],\n",
    "                              [2, 4, 3, 5, 3]])\n",
    "\n",
    "# Применение SVD разложения на 3 компоненты\n",
    "U, s, Vt = scipy.linalg.svd(user_movie_matrix)\n",
    "\n",
    "# Сокращение размерности до 3х компонент\n",
    "U_reduced = U[:, :3]       # Первые три колонки матрицы U\n",
    "Sigma_reduced = np.diag(s[:3])  # Первые три сингулярных числа\n",
    "Vt_reduced = Vt[:3, :]     # Первые три строки матрицы Vt\n",
    "\n",
    "# Новый пользователь (что-то успел посмотреть)\n",
    "new_user = np.array((0, 0, 3, 4, 0))\n",
    "\n",
    "# Перевод нового пользователя в представление сниженной размерности\n",
    "new_user_reduced = np.dot(new_user, Vt_reduced.T)\n",
    "print(\"New user in reduced space:\", new_user_reduced)\n",
    "\n",
    "# Обратная трансформация в исходное пространство оценок фильмов\n",
    "new_user_restored = np.dot(new_user_reduced, Vt_reduced)\n",
    "print(\"Restored ratings for new user:\", new_user_restored)\n",
    "\n",
    "# Поиск индекса непросмотренного фильма с наивысшей оценкой\n",
    "# Фильмы, которые пользователь не смотрел, имеют рейтинг 0 в исходном векторе\n",
    "unwatched_indices = np.where(new_user == 0)[0]  # Индексы непросмотренных фильмов\n",
    "best_movie_index = unwatched_indices[np.argmax(new_user_restored[unwatched_indices])]  # Индекс фильма с наивысшей оценкой\n",
    "\n",
    "print(\"Index of the best movie for the new user:\", best_movie_index)\n"
   ]
  },
  {
   "cell_type": "code",
   "execution_count": null,
   "metadata": {},
   "outputs": [],
   "source": []
  }
 ],
 "metadata": {
  "kernelspec": {
   "display_name": ".venv",
   "language": "python",
   "name": "python3"
  },
  "language_info": {
   "codemirror_mode": {
    "name": "ipython",
    "version": 3
   },
   "file_extension": ".py",
   "mimetype": "text/x-python",
   "name": "python",
   "nbconvert_exporter": "python",
   "pygments_lexer": "ipython3",
   "version": "3.9.6"
  }
 },
 "nbformat": 4,
 "nbformat_minor": 2
}
