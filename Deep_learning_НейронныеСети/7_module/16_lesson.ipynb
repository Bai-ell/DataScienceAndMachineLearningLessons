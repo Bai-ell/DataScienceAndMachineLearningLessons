{
 "cells": [
  {
   "cell_type": "markdown",
   "metadata": {},
   "source": [
    " Region proposals"
   ]
  },
  {
   "cell_type": "markdown",
   "metadata": {},
   "source": [
    "С проблемой детектирования объектов люди сталкивались ещё до появления нейронных сетей, используя алгоритмы из классического компьютерного зрения, семейство которых можно назвать Region proposals («кандидаты в регионы, соответствующие каким-то боксам»).\n",
    "\n",
    "Идея region proposals: на входе — изображение, а на выходе — боксы, соответствующие этому изображению, но не все возможные, а те, где с довольно высокой вероятностью есть какой-то объект. Существуют методы для фильтрации всех возможных вариантов боксов. Они содержат отчетливые объекты или законченные контуры.\n",
    "\n",
    "Ранние методы region proposals:\n",
    "\n",
    "Selective search основан на «супер-пикселях»."
   ]
  },
  {
   "cell_type": "markdown",
   "metadata": {},
   "source": [
    "https://lms-cdn.skillfactory.ru/assets/courseware/v1/4a3a47690166ae90023a3161922294f4/asset-v1:SkillFactory+MLDL+ALWAYS+type@asset+block/Object_detection_16.png"
   ]
  },
  {
   "cell_type": "markdown",
   "metadata": {},
   "source": [
    "Edge boxes основан на похожей идее, но вместо «супер-пикселей» выделяет границы объектов."
   ]
  },
  {
   "cell_type": "markdown",
   "metadata": {},
   "source": [
    "https://lms-cdn.skillfactory.ru/assets/courseware/v1/ea23fcde2850e9755190f39b43f310f3/asset-v1:SkillFactory+MLDL+ALWAYS+type@asset+block/Object_detection_17.png"
   ]
  },
  {
   "cell_type": "markdown",
   "metadata": {},
   "source": []
  }
 ],
 "metadata": {
  "language_info": {
   "name": "python"
  }
 },
 "nbformat": 4,
 "nbformat_minor": 2
}
