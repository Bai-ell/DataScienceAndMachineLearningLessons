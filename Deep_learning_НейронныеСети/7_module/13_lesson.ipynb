{
 "cells": [
  {
   "cell_type": "markdown",
   "metadata": {},
   "source": [
    "  Классификация + локализация"
   ]
  },
  {
   "cell_type": "markdown",
   "metadata": {},
   "source": [
    "Как использовать регрессию в локализации?\n",
    "\n",
    "На самом деле очень просто. Ведь мы хотим найти прямоугольник, который ограничивает наш объект. А прямоугольник задается какими-то непрерывными параметрами, например, координатой верхнего левого угла (x1; y1) и координатой нижнего правого угла (x2; y2). Эти четыре числа (x1, y1, x2, y2) задают прямоугольник, и мы можем попробовать сделать регрессию, т.е. по картинке предсказать эти четыре числа."
   ]
  },
  {
   "cell_type": "markdown",
   "metadata": {},
   "source": [
    "https://lms-cdn.skillfactory.ru/assets/courseware/v1/d7645adfb406e60712ebb3fc2c9dcdd1/asset-v1:SkillFactory+MLDL+ALWAYS+type@asset+block/Object_detection_10.png"
   ]
  },
  {
   "cell_type": "markdown",
   "metadata": {},
   "source": [
    "Другой способ локализовать объект — это предсказать координаты центра нашего bounding box, его ширину и длину (xс, yс, w, h). И это тоже вполне разумный способ."
   ]
  },
  {
   "cell_type": "markdown",
   "metadata": {},
   "source": [
    "https://lms-cdn.skillfactory.ru/assets/courseware/v1/786e5dd4ec8bb48bec43417a2c57ec41/asset-v1:SkillFactory+MLDL+ALWAYS+type@asset+block/Object_detection_11.png"
   ]
  },
  {
   "cell_type": "markdown",
   "metadata": {},
   "source": [
    "Как мы можем это соединить с классификацией?\n",
    "\n",
    "Например, построить одну такую нейронную сеть, на выходе которой будет либо пара векторов, либо один длинный вектор, который состоит из двух компонентов. Зеленая часть вектора будет ответственна всё ещё за классификацию, а четыре другие значения в этом векторе будут характеризовать ограничивающий прямоугольник. Обучаем эту модель так же с помощью метода обратного распространения ошибки. О том, как сконструировать функцию потерь, поговорим позже."
   ]
  },
  {
   "cell_type": "markdown",
   "metadata": {},
   "source": [
    "https://lms-cdn.skillfactory.ru/assets/courseware/v1/6901787e42f81056b6ee514c798dd924/asset-v1:SkillFactory+MLDL+ALWAYS+type@asset+block/Object_detection_12.png"
   ]
  },
  {
   "cell_type": "markdown",
   "metadata": {},
   "source": [
    "Другой способ решить задачу — это сделать предсказание ограничивающего прямоугольника отдельно для каждого класса, то есть на выходе получить классы и для каждого класса свою четвёрку чисел, задающих bounding box для каждого класса."
   ]
  },
  {
   "cell_type": "markdown",
   "metadata": {},
   "source": [
    "https://lms-cdn.skillfactory.ru/assets/courseware/v1/fc3cef739ead69bdba5be31c2f40821b/asset-v1:SkillFactory+MLDL+ALWAYS+type@asset+block/Object_detection_13.png"
   ]
  },
  {
   "cell_type": "markdown",
   "metadata": {},
   "source": []
  }
 ],
 "metadata": {
  "language_info": {
   "name": "python"
  }
 },
 "nbformat": 4,
 "nbformat_minor": 2
}
