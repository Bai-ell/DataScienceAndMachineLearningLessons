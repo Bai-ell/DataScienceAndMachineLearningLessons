{
 "cells": [
  {
   "cell_type": "markdown",
   "metadata": {},
   "source": [
    "Skipped connections и U-Net"
   ]
  },
  {
   "cell_type": "markdown",
   "metadata": {},
   "source": [
    "Потерянные связи и остаточные сети\n",
    "\n",
    "Skipped connections (потерянные связи) — информация, которая после всех преобразований во время обучения сети, утеряна.\n",
    "\n",
    "Residual neural network (ResNet) или остаточные сети — это искусственная нейронная сеть (ANN), которая использует пропускные соединения или короткие отрезки, чтобы перепрыгнуть через некоторые слои.\n",
    "\n",
    "U-Net — полносвязная свёрточная сеть, которая модернизирована для работы с меньшим количеством обучающих образов и получения более точных сегментов.\n",
    "\n"
   ]
  },
  {
   "cell_type": "markdown",
   "metadata": {},
   "source": []
  }
 ],
 "metadata": {
  "language_info": {
   "name": "python"
  }
 },
 "nbformat": 4,
 "nbformat_minor": 2
}
