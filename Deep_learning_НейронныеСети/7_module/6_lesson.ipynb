{
 "cells": [
  {
   "cell_type": "markdown",
   "metadata": {},
   "source": [
    "6/27   Слои для повышения разрешения\n"
   ]
  },
  {
   "cell_type": "markdown",
   "metadata": {},
   "source": [
    "Как улучшить FCN с помощью слоёв повышения разрешения\n",
    "\n",
    "Вместо upscale можно использовать слои для повышения разрешения:\n",
    "\n",
    "применить Unpooling / Upconv (обратная операция pooling);\n",
    "применить свёрточные слои;"
   ]
  },
  {
   "cell_type": "markdown",
   "metadata": {},
   "source": [
    "https://lms-cdn.skillfactory.ru/assets/courseware/v1/f07931eaf743a4d5ff08aaa2e8d360f8/asset-v1:SkillFactory+MLDL+ALWAYS+type@asset+block/DL_6_unit_9.png"
   ]
  },
  {
   "cell_type": "markdown",
   "metadata": {},
   "source": [
    "На данном этапе мы получили более сложную, обучаемую архитектуру, которая даёт шанс всей сети обучиться, не теряя информации о пространственных мелких деталях (эта информация может быть закодирована в канальном измерении). \n",
    "\n",
    "Далее мы можем:\n",
    "\n",
    "применить какое-то количество свёрток; \n",
    "применить Unpooling / Upconv;\n",
    "получить финальную картинку."
   ]
  },
  {
   "cell_type": "markdown",
   "metadata": {},
   "source": [
    "https://lms-cdn.skillfactory.ru/assets/courseware/v1/42885b4f4c36ed2c7f8cc9a660fad093/asset-v1:SkillFactory+MLDL+ALWAYS+type@asset+block/DL_6_unit_10.png"
   ]
  },
  {
   "cell_type": "markdown",
   "metadata": {},
   "source": [
    "Unpooling слой — обратная операция pooling, увеличение размеров изображения. \n",
    "\n",
    "Max unpooling даёт возможность использовать информацию о том, какой пиксель на этапе Max pooling был выбран в качестве максимального значения, и именно в это место поставить значение входного пикселя. \n",
    "\n",
    "Транспонированная свёртка умножает один пиксель входного изображения на все значения ядра свёртки и записывает эти данные в выходной массив. \n",
    "\n"
   ]
  },
  {
   "cell_type": "markdown",
   "metadata": {},
   "source": []
  }
 ],
 "metadata": {
  "language_info": {
   "name": "python"
  }
 },
 "nbformat": 4,
 "nbformat_minor": 2
}
