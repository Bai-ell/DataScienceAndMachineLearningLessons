{
 "cells": [
  {
   "cell_type": "markdown",
   "metadata": {},
   "source": [
    "Метод FAST R-CNN"
   ]
  },
  {
   "cell_type": "markdown",
   "metadata": {},
   "source": [
    "FAST R-CNN («быстрый R-CNN») — модификация метода R-CNN.\n",
    "\n",
    "Идея:\n",
    "\n",
    "запускаем region proposals;\n",
    "запускаем одну нейронную сеть, извлекающую карты признаков;\n",
    "отображаем proposals на карты признаков;\n",
    "операцией ROI Pooling кусочки полученных карт признаков отображаем в карты признаков фиксированного размера;\n",
    "для каждого набора карт признаков запускаем сеть, получающую предсказание для каждого региона."
   ]
  },
  {
   "cell_type": "markdown",
   "metadata": {},
   "source": [
    "https://lms-cdn.skillfactory.ru/assets/courseware/v1/b38f998d6094c5d1f7d1f2e7cd83703b/asset-v1:SkillFactory+MLDL+ALWAYS+type@asset+block/Object_detection_19.png"
   ]
  },
  {
   "cell_type": "markdown",
   "metadata": {},
   "source": [
    "Таким образом, метод R-CNN улучшается тем, что гигантская свёрточная нейронная сеть не запускается N раз, а один раз запускается 90 % от всей сети и N раз запускается 10 % всей сети."
   ]
  },
  {
   "cell_type": "markdown",
   "metadata": {},
   "source": []
  }
 ],
 "metadata": {
  "language_info": {
   "name": "python"
  }
 },
 "nbformat": 4,
 "nbformat_minor": 2
}
