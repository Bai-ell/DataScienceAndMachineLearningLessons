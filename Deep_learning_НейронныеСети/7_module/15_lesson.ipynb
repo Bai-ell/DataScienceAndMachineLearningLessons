{
 "cells": [
  {
   "cell_type": "markdown",
   "metadata": {},
   "source": [
    "  Отличие детектирования от локализации"
   ]
  },
  {
   "cell_type": "markdown",
   "metadata": {},
   "source": [
    "Детектирование объектов принципиально отличается от локализации тем, что предполагает наличие нескольких объектов.\n",
    "\n",
    "И всё не так просто, как представлено на первой картинке, где два объекта. Не всегда мы можем быть уверены, что объектов ровно два, не всегда один из них кот, а второй — собака. Эта задача не очень сильно отличается от локализации, потому что количество выходов фиксировано, даже классификация не нужна."
   ]
  },
  {
   "cell_type": "markdown",
   "metadata": {},
   "source": [
    "https://lms-cdn.skillfactory.ru/assets/courseware/v1/87e50d23143a86245f9e7cf2751535f8/asset-v1:SkillFactory+MLDL+ALWAYS+type@asset+block/Object_detection_15.png"
   ]
  },
  {
   "cell_type": "markdown",
   "metadata": {},
   "source": [
    "Основное правило: если мы знаем точно, сколько выходных значений нам нужно предсказать, это простая задача и решается она так же как задача локализации.\n",
    "\n",
    "В случае детектирования объектов сложность состоит в том, что потенциальных кандидатов на объекты может быть несколько и все они могут быть разных классов. Поэтому мы не можем заранее предсказать, сколько у нас будет объектов."
   ]
  },
  {
   "cell_type": "markdown",
   "metadata": {},
   "source": [
    "https://lms-cdn.skillfactory.ru/assets/courseware/v1/cb5904ac035128d9d8ac9d276e16b4d2/asset-v1:SkillFactory+MLDL+ALWAYS+type@asset+block/Object_detection_156.png"
   ]
  },
  {
   "cell_type": "markdown",
   "metadata": {},
   "source": []
  }
 ],
 "metadata": {
  "language_info": {
   "name": "python"
  }
 },
 "nbformat": 4,
 "nbformat_minor": 2
}
