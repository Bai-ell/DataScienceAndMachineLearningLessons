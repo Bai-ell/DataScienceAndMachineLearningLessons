{
 "cells": [
  {
   "cell_type": "markdown",
   "metadata": {},
   "source": [
    " Регрессия"
   ]
  },
  {
   "cell_type": "markdown",
   "metadata": {},
   "source": [
    "Вспомним регрессию и отличие классификации от регрессии.\n",
    "\n",
    "Рассмотрим рисунок, иллюстрирующий задачу классификации и задачу регрессии:"
   ]
  },
  {
   "cell_type": "markdown",
   "metadata": {},
   "source": [
    "https://lms-cdn.skillfactory.ru/assets/courseware/v1/352787b224ed1e5c63ec5e05f44bc21d/asset-v1:SkillFactory+MLDL+ALWAYS+type@asset+block/DL-2_Рисунок6.png"
   ]
  },
  {
   "cell_type": "markdown",
   "metadata": {},
   "source": [
    "В случае классификации на выходе получаем какое-то дискретное представление — к какому классу принадлежит тот или иной объект (класс фиолетовых или класс оранжевых объектов), как бы разделяя поверхность в этом признаковом пространстве.\n",
    "\n",
    "В случае регрессии каждому новому объекту необходимо присвоить не какую-то дискретную метку, а  непрерывное значение. На рисунке справа некоторые значения одномерной функции известны (это обучающая выборка), а в каких-то необходимо восстановить значения (какое-то произвольное непрерывное значение).\n",
    "\n",
    "Другими словами, в классификации наши предсказания — это дискретная метка класса, а в случае регрессии это какое-то непрерывное число, тензор или матрица."
   ]
  },
  {
   "cell_type": "markdown",
   "metadata": {},
   "source": [
    "https://lms-cdn.skillfactory.ru/assets/courseware/v1/7a5d2c9c3970e6c1a58b24caa7eb412e/asset-v1:SkillFactory+MLDL+ALWAYS+type@asset+block/Object_detection_7.png"
   ]
  },
  {
   "cell_type": "markdown",
   "metadata": {},
   "source": [
    "Примеры регрессии:\n",
    "\n",
    "Предсказание возраста. Имеющуюся картинку можем не классифицировать, а сделать по ней регрессию, т.е. предсказать какое-то число. Например, по фотографии предсказать, что возраст человека 53 года."
   ]
  },
  {
   "cell_type": "markdown",
   "metadata": {},
   "source": [
    "https://lms-cdn.skillfactory.ru/assets/courseware/v1/16e9c906f364aef9c5d7c59762458248/asset-v1:SkillFactory+MLDL+ALWAYS+type@asset+block/Object_detection_8.png"
   ]
  },
  {
   "cell_type": "markdown",
   "metadata": {},
   "source": [
    "Ключевые точки. Пусть мы хотим найти какие-то ключевые точки на картинке, например, фиксированное число точек — 10 (уголки глаз, губ и т.д.). Наш ответ на эту задачу имеет фиксированный размер: 10 точек, каждая имеет по две координаты X, Y. Значит, мы хотим на выходе получить 20 чисел (это произвольные какие-то числа, распределенные по нашей картинке). Как обучать такую нейронную сеть? Например, поставив в качестве функции потерь меру близости,  которую можно задать евклидовым расстоянием между предсказаниями сети и правильным положением точек."
   ]
  },
  {
   "cell_type": "markdown",
   "metadata": {},
   "source": [
    "https://lms-cdn.skillfactory.ru/assets/courseware/v1/e7425a4e1b9768c4113b11217380eabf/asset-v1:SkillFactory+MLDL+ALWAYS+type@asset+block/Object_detection_9.png"
   ]
  },
  {
   "cell_type": "markdown",
   "metadata": {},
   "source": []
  }
 ],
 "metadata": {
  "language_info": {
   "name": "python"
  }
 },
 "nbformat": 4,
 "nbformat_minor": 2
}
