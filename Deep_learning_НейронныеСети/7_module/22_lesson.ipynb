{
 "cells": [
  {
   "cell_type": "markdown",
   "metadata": {},
   "source": [
    "Как работает SSD-детектор\n",
    "\n"
   ]
  },
  {
   "cell_type": "markdown",
   "metadata": {},
   "source": [
    "Как в методе SSD на втором шаге с помощью детектора по карте признаком получить боксы с предсказаниями?"
   ]
  },
  {
   "cell_type": "markdown",
   "metadata": {},
   "source": [
    "https://lms-cdn.skillfactory.ru/assets/courseware/v1/76577f34b529b947d3cbb99e8c9d4ab4/asset-v1:SkillFactory+MLDL+ALWAYS+type@asset+block/Object_detection_22.png"
   ]
  },
  {
   "cell_type": "markdown",
   "metadata": {},
   "source": [
    "Сделаем следующее:\n",
    "\n",
    "Возьмем набор карт признаком фиксированного размера, разобьём каждую сеткой  5 x 5. Каждый пространственный пиксель в такой карте соответствует какому-то блоку на исходной картинке.\n",
    "Виртуально синтезируем фиксированное количество дефолтных боксов, различающихся между собой о соотношением сторон. Для каждого дефолтного бокса сделаем предсказание.\n",
    "К каждому набору карт, разбитых сеткой  5 x 5, применяем свёрточный слой, например,  3 x 3. Количество карт признаков = N x (4 + C).\n",
    "Сквозной вектор, проходящий через полученный набор карт признаков, будет отвечать за конкретный блок на входной картинке.\n",
    "Отфильтровываем боксы с низкой вероятностью на наличие объекта."
   ]
  },
  {
   "cell_type": "markdown",
   "metadata": {},
   "source": [
    "https://lms-cdn.skillfactory.ru/assets/courseware/v1/569f10e0526fa84ce1f8cdc0600ce668/asset-v1:SkillFactory+MLDL+ALWAYS+type@asset+block/Object_detection_23.png"
   ]
  },
  {
   "cell_type": "markdown",
   "metadata": {},
   "source": [
    "Соединяем все боксы в одном алгоритме Non-Maximum Suppression и получаем финальное предсказание."
   ]
  },
  {
   "cell_type": "markdown",
   "metadata": {},
   "source": [
    "https://lms-cdn.skillfactory.ru/assets/courseware/v1/f00f52ca68d653631dee45365ae2718b/asset-v1:SkillFactory+MLDL+ALWAYS+type@asset+block/Object_detection_24.png"
   ]
  },
  {
   "cell_type": "markdown",
   "metadata": {},
   "source": []
  }
 ],
 "metadata": {
  "language_info": {
   "name": "python"
  }
 },
 "nbformat": 4,
 "nbformat_minor": 2
}
