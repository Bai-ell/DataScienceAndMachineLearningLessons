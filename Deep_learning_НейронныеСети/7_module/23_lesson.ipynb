{
 "cells": [
  {
   "cell_type": "markdown",
   "metadata": {},
   "source": [
    "Метод YOLO"
   ]
  },
  {
   "cell_type": "markdown",
   "metadata": {},
   "source": [
    "YOLO работает похожим на SSD методом.\n",
    "\n",
    "Дополнительные материалы\n",
    "\n",
    "nlp\t\n",
    "В качестве дополнительного материала рекомендуем вам ознакомиться с видео-обзором на статью «You only look once» от компании Deep Systems\n",
    "https://www.youtube.com/watch?v=L0tzmv--CGY \\n\n",
    "https://deepsystems.com"
   ]
  }
 ],
 "metadata": {
  "language_info": {
   "name": "python"
  }
 },
 "nbformat": 4,
 "nbformat_minor": 2
}
