{
 "cells": [
  {
   "cell_type": "markdown",
   "metadata": {},
   "source": [
    "  Метод FASTER R-CNN"
   ]
  },
  {
   "cell_type": "markdown",
   "metadata": {},
   "source": [
    "FASTER R-CNN — модификация метода FAST R-CNN.\n",
    "\n",
    "Идея — ускорить region proposals, для этого:\n",
    "\n",
    "запускаем нейронную сеть, извлекающую карты признаков;\n",
    "на полученные признаки накручиваем Region Proposal Network;\n",
    "отобажаем proposals на карты признаков;\n",
    "операцией ROI Pooling кусочки полученных карт признаков отображаем в карты признаков фиксированного размера;\n",
    "для каждого набора карт признаков запускаем сеть, получающую предсказание для каждого региона.\n"
   ]
  },
  {
   "cell_type": "markdown",
   "metadata": {},
   "source": [
    "https://lms-cdn.skillfactory.ru/assets/courseware/v1/89cf203dd197a505b4e94494839404fc/asset-v1:SkillFactory+MLDL+ALWAYS+type@asset+block/Object_detection_20.png"
   ]
  },
  {
   "cell_type": "markdown",
   "metadata": {},
   "source": [
    "Таким образом, получаем полностью обучаемую сеть end-to-end."
   ]
  },
  {
   "cell_type": "markdown",
   "metadata": {},
   "source": []
  }
 ],
 "metadata": {
  "language_info": {
   "name": "python"
  }
 },
 "nbformat": 4,
 "nbformat_minor": 2
}
