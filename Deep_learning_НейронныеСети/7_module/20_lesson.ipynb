{
 "cells": [
  {
   "cell_type": "markdown",
   "metadata": {},
   "source": [
    "Семейство SSD / YOLO"
   ]
  },
  {
   "cell_type": "markdown",
   "metadata": {},
   "source": [
    "Методы SSD и YOLO позволяют за один проход проанализировать картинку и сразу предсказать всё, что на ней находится.\n",
    "\n",
    "YOLO — You Only Look Once\n",
    "\n",
    "SSD — Single Shot Multibox Detector\n",
    "\n",
    "Для начала рассмотрим на базовом уровне идею этих двух методов, а затем подробнее разберем архитектуру SSD, именно по ней проведем демонстрацию кода.\n",
    "\n",
    "Идея:\n",
    "\n",
    "разбиваем имеющуюся картинку сеткой, например, 5 x 5;\n",
    "какой-то ячейке этой сетки ставим в соответствие набор потенциальных боксов (их еще называют default boxes или «якорные боксы»);\n",
    "для каждого бокса предсказываем классификацию и регрессию.\n",
    "Таким образом, для каждой ячейки картинки мы пробуем ограниченный набор боксов и для каждого делаем предсказание. Идея простая, но на свёрточных нейронных сетях работает быстро."
   ]
  },
  {
   "cell_type": "markdown",
   "metadata": {},
   "source": [
    "https://lms-cdn.skillfactory.ru/assets/courseware/v1/b60c29418ef59ed00007a3c6055d76da/asset-v1:SkillFactory+MLDL+ALWAYS+type@asset+block/Object_detection_21.png"
   ]
  },
  {
   "cell_type": "markdown",
   "metadata": {},
   "source": []
  }
 ],
 "metadata": {
  "language_info": {
   "name": "python"
  }
 },
 "nbformat": 4,
 "nbformat_minor": 2
}
