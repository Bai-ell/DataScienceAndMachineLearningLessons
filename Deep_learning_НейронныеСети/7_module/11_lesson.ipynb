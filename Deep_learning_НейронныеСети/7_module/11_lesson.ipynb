{
 "cells": [
  {
   "cell_type": "markdown",
   "metadata": {},
   "source": [
    "Локализация"
   ]
  },
  {
   "cell_type": "markdown",
   "metadata": {},
   "source": [
    "Прежде чем перейти к детектированию объектов разберемся с более простой задачей — локализацией.\n",
    "\n",
    "В чём состоит задача локализации?\n",
    "\n",
    "Например, у нас есть картинка, на которой необходимо найти объект (как правило, один), и во-первых, проклассифицировать его, во-вторых, найти, где он, т.е. найти тот самый bounding box. В данном случае красненький bounding box и метка «котик» и будет ответом на задачу классификации и локализации."
   ]
  },
  {
   "cell_type": "markdown",
   "metadata": {},
   "source": [
    "https://lms-cdn.skillfactory.ru/assets/courseware/v1/57d539d3312569a8b455aff0c3088787/asset-v1:SkillFactory+MLDL+ALWAYS+type@asset+block/Object_detection_3.png"
   ]
  },
  {
   "cell_type": "markdown",
   "metadata": {},
   "source": [
    "Как можно решить задачу?\n",
    "\n",
    "Первый способ,который приходит в голову, это «скользящее окно» (так называемый «подход в лоб» или brute force)."
   ]
  },
  {
   "cell_type": "markdown",
   "metadata": {},
   "source": [
    "https://lms-cdn.skillfactory.ru/assets/courseware/v1/f317627a1348a53c91516fadda31b467/asset-v1:SkillFactory+MLDL+ALWAYS+type@asset+block/Object_detection_4.png"
   ]
  },
  {
   "cell_type": "markdown",
   "metadata": {},
   "source": [
    "Но такой подход неэффективен по ряду причин."
   ]
  },
  {
   "cell_type": "markdown",
   "metadata": {},
   "source": [
    "https://lms-cdn.skillfactory.ru/assets/courseware/v1/30e578cd0ef9cf943f1e20da3d7d1664/asset-v1:SkillFactory+MLDL+ALWAYS+type@asset+block/Object_detection_5.png"
   ]
  },
  {
   "cell_type": "markdown",
   "metadata": {},
   "source": [
    "Перед тем как разобрать «умный» способ построения bounding box по картинке, вспомним задачу регрессии."
   ]
  },
  {
   "cell_type": "markdown",
   "metadata": {},
   "source": []
  }
 ],
 "metadata": {
  "language_info": {
   "name": "python"
  }
 },
 "nbformat": 4,
 "nbformat_minor": 2
}
