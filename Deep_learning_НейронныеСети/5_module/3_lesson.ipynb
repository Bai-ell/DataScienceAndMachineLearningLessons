{
 "cells": [
  {
   "cell_type": "markdown",
   "metadata": {},
   "source": [
    "Перенос обучения"
   ]
  },
  {
   "cell_type": "markdown",
   "metadata": {},
   "source": [
    "Разберём задачу распознавания эмоций по фотографии. Если бы нейронная сеть обучалась нами с нуля, то экстрактор выглядел бы следующим образом"
   ]
  },
  {
   "cell_type": "markdown",
   "metadata": {},
   "source": [
    "https://lms-cdn.skillfactory.ru/assets/courseware/v1/0cfbbccf0402adbf58de873b1dc4da5b/asset-v1:SkillFactory+MLDL+ALWAYS+type@asset+block/DL-2_5_модуль_7.png"
   ]
  },
  {
   "cell_type": "markdown",
   "metadata": {},
   "source": [
    "В ImageNet сети, наверняка, уже есть детекторы краёв и простые текстуры, которые можно использовать в нашей задаче. Остальные текстуры необходимо будет выучить, используя дополнительные данные для дообучения сети."
   ]
  },
  {
   "cell_type": "markdown",
   "metadata": {},
   "source": [
    "https://lms-cdn.skillfactory.ru/assets/courseware/v1/57eb8d0f6e1e6e2562061c2962212104/asset-v1:SkillFactory+MLDL+ALWAYS+type@asset+block/DL-2_5_модуль_8.png"
   ]
  },
  {
   "cell_type": "markdown",
   "metadata": {},
   "source": [
    "Взяв первые несколько слоёв из фича-экстрактора, который обучен по ImageNet, останется дообучить только последние слои нейронной сети."
   ]
  },
  {
   "cell_type": "markdown",
   "metadata": {},
   "source": []
  }
 ],
 "metadata": {
  "language_info": {
   "name": "python"
  }
 },
 "nbformat": 4,
 "nbformat_minor": 2
}
