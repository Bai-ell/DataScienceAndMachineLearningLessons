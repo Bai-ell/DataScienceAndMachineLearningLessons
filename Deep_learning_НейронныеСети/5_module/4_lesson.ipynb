{
 "cells": [
  {
   "cell_type": "markdown",
   "metadata": {},
   "source": [
    " Fine-tuning"
   ]
  },
  {
   "cell_type": "markdown",
   "metadata": {},
   "source": [
    "Рассмотрим сеть, которая обучена на ImageNet. Фиксируем в этой сети часть фича-экстрактора (зелёная на рисунке)."
   ]
  },
  {
   "cell_type": "markdown",
   "metadata": {},
   "source": [
    "https://lms-cdn.skillfactory.ru/assets/courseware/v1/1832924a1ad3c7541a148cf8e972452a/asset-v1:SkillFactory+MLDL+ALWAYS+type@asset+block/DL-2_5_модуль_9.png"
   ]
  },
  {
   "cell_type": "markdown",
   "metadata": {},
   "source": [
    "Тогда в новой задаче дообучить предстоит только синий и тёмно-зелёный слои."
   ]
  },
  {
   "cell_type": "markdown",
   "metadata": {},
   "source": [
    "https://lms-cdn.skillfactory.ru/assets/courseware/v1/626ab1f6165cf83867a8d90d1a0e7c1a/asset-v1:SkillFactory+MLDL+ALWAYS+type@asset+block/DL-2_5_модуль_10.png"
   ]
  },
  {
   "cell_type": "markdown",
   "metadata": {},
   "source": [
    "Синие свёрточные слои будем инициализировать не случайными значениями, а теми же, что использовались в ImageNet сети. Тёмно-зелёный слой зафиксируем, а синий слой инициализируем теми же весами, которые получили от ImageNet сети. И пустим градиенты с маленьким шагом, чтобы подстроить слои под нашу задачу."
   ]
  },
  {
   "cell_type": "markdown",
   "metadata": {},
   "source": [
    "https://lms-cdn.skillfactory.ru/assets/courseware/v1/0e8a094ccba91f5a7add1ce07458baee/asset-v1:SkillFactory+MLDL+ALWAYS+type@asset+block/DL-2_5_модуль_11.png"
   ]
  },
  {
   "cell_type": "markdown",
   "metadata": {},
   "source": [
    "Преимущества Fine-tuning\n",
    "\n",
    "Fine-tuning — это очень популярный подход, т.к.\n",
    "\n",
    "ImageNet покрывает огромное количество объектов, которые есть в реальном мире.\n",
    "В Keras есть веса для обученных на ImageNet VGG, Inception, ResNet и т.д.\n",
    "Можно легко сделать ансамбль из этих сетей.\n",
    "Резюмируя, обратимся к следующей таблице:\n",
    "\n"
   ]
  },
  {
   "cell_type": "markdown",
   "metadata": {},
   "source": [
    "https://lms-cdn.skillfactory.ru/assets/courseware/v1/62e7fe5a6a6d57172a78f08f7271f615/asset-v1:SkillFactory+MLDL+ALWAYS+type@asset+block/DL-2_5_модуль_12.png"
   ]
  },
  {
   "cell_type": "markdown",
   "metadata": {},
   "source": [
    "Дополнительные материалы\n",
    "\n",
    "nlp\t\n",
    "В качестве дополнительной литературы рекомендуем вам прочесть статью https://flyyufelix.github.io/2016/10/03/fine-tuning-in-keras-part1.html"
   ]
  },
  {
   "cell_type": "markdown",
   "metadata": {},
   "source": []
  }
 ],
 "metadata": {
  "language_info": {
   "name": "python"
  }
 },
 "nbformat": 4,
 "nbformat_minor": 2
}
