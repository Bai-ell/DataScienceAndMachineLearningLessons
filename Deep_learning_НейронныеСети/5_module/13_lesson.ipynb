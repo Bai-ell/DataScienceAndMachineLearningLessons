{
 "cells": [
  {
   "cell_type": "markdown",
   "metadata": {},
   "source": [
    "Полезные ссылки:\n",
    "\n",
    "Paperswithcode \\n  https://paperswithcode.com/sota\n",
    "sotabench.com   \\n https://sotabench.com/benchmarks/image-classification-on-imagenet\n",
    "efficientnet на GitHub\\n  https://github.com/qubvel/efficientnet"
   ]
  }
 ],
 "metadata": {
  "language_info": {
   "name": "python"
  }
 },
 "nbformat": 4,
 "nbformat_minor": 2
}
