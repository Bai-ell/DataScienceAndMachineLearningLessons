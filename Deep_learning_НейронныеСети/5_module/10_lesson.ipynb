{
 "cells": [
  {
   "cell_type": "markdown",
   "metadata": {},
   "source": [
    "Вывод"
   ]
  },
  {
   "cell_type": "markdown",
   "metadata": {},
   "source": [
    "Для чего нужны autoencoder'ы?\n",
    "\n",
    "Нам не нужны размеченные данные! Учим экстрактор признаков за бесплатно!\n",
    "Полученный экстрактор можно файн-тьюнить под нашу задачу!\n"
   ]
  },
  {
   "cell_type": "markdown",
   "metadata": {},
   "source": [
    "https://lms-cdn.skillfactory.ru/assets/courseware/v1/0da151704d0e580d9c51e7cec5d989c7/asset-v1:SkillFactory+MLDL+ALWAYS+type@asset+block/DL-2_5_модуль_27.png"
   ]
  },
  {
   "cell_type": "markdown",
   "metadata": {},
   "source": [
    "В этом модуле мы рассмотрели два важных подхода к нейросетевым представлениям:\n",
    "\n",
    "Finetuning / Transfer learning, в котором смотрим на часть нейросети, как на экстрактор признаков для нашей задачи, который можем полностью или частично переиспользовать.\n",
    "Второй подход заключается в использовании неразмеченных данных, где учим autoencoder и его encoder-часть берём как экстрактор признаков.\n"
   ]
  },
  {
   "cell_type": "markdown",
   "metadata": {},
   "source": []
  }
 ],
 "metadata": {
  "language_info": {
   "name": "python"
  }
 },
 "nbformat": 4,
 "nbformat_minor": 2
}
