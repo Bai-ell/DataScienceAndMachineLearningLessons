{
 "cells": [
  {
   "cell_type": "markdown",
   "metadata": {},
   "source": [
    " Как получить такие картинки"
   ]
  },
  {
   "cell_type": "markdown",
   "metadata": {},
   "source": [
    "Как получить картинки, которые рисуют, на что реагируют нейроны?\n",
    "\n",
    "Нейронная сеть дифференцируема, каждый нейрон является сложной функцией. Достаточно подобрать вход, который даст максимальную активацию на отдельно взятый нейрон. Аргументами функции, которые подбираются с помощью обратного распространения ошибки, является входное изображение. Фактически организуется статистический градиентный спуск, в ходе которого изображение приобретает осмысленный вид."
   ]
  },
  {
   "cell_type": "markdown",
   "metadata": {},
   "source": [
    "https://lms-cdn.skillfactory.ru/assets/courseware/v1/f308d77db72f4d6609970be2bf61f4fb/asset-v1:SkillFactory+MLDL+ALWAYS+type@asset+block/DL-2_5_модуль_3.png"
   ]
  },
  {
   "cell_type": "markdown",
   "metadata": {},
   "source": [
    "Строить такие картинки можно, используя целый слой или канал в слое. Задача: найти, на что среагирует нейрон, при помощи метода градиентного спуска (SGD).\n",
    "\n",
    "Если взять на картинке один нейрон, то картинка, которая будет подобрана при помощи SGD, будет содержать кусочек текстуры только в той части изображения, на которую смотрит этот нейрон. Каждый нейрон имеет ограниченное поле обзора. «Слепых пятен» можно избежать, взяв все нейроны слоя. \n",
    "\n",
    "Можно максимизировать выход одного нейрона, канала, слоя или целого выхода сети для конкретного класса."
   ]
  },
  {
   "cell_type": "markdown",
   "metadata": {},
   "source": [
    "https://lms-cdn.skillfactory.ru/assets/courseware/v1/0e0ef5c2a7db67ab769a88a41a5d9eb6/asset-v1:SkillFactory+MLDL+ALWAYS+type@asset+block/DL-2_5_модуль_4.png"
   ]
  },
  {
   "cell_type": "markdown",
   "metadata": {},
   "source": [
    "Также можно взять выход нейронной сети, который соответствует конкретному классу, и под него подбирать изображение при помощи SGD.\n",
    "\n"
   ]
  },
  {
   "cell_type": "markdown",
   "metadata": {},
   "source": [
    "https://lms-cdn.skillfactory.ru/assets/courseware/v1/5a748b96a65ad7101abcd79a8d9a91ca/asset-v1:SkillFactory+MLDL+ALWAYS+type@asset+block/DL-2_5_модуль_6.png"
   ]
  },
  {
   "cell_type": "markdown",
   "metadata": {},
   "source": [
    "Другой способ: в dataset, используемом при обучении, взять картинки, на которых конкретный нейрон даёт максимальную активацию."
   ]
  },
  {
   "cell_type": "markdown",
   "metadata": {},
   "source": [
    "https://lms-cdn.skillfactory.ru/assets/courseware/v1/da64bf36b24163f8feed60cf0cb8d88d/asset-v1:SkillFactory+MLDL+ALWAYS+type@asset+block/DL-2_5_модуль_5.png"
   ]
  },
  {
   "cell_type": "markdown",
   "metadata": {},
   "source": [
    "В этом случае нужно намного меньше данных для обучения последних слоёв.\n",
    "\n",
    "Перенос обучения работает, если новая задача похожа на ImageNet (содержит те же объекты или похожие). Стоит также учесть, что в ImageNet нет лиц."
   ]
  },
  {
   "cell_type": "markdown",
   "metadata": {},
   "source": []
  }
 ],
 "metadata": {
  "language_info": {
   "name": "python"
  }
 },
 "nbformat": 4,
 "nbformat_minor": 2
}
