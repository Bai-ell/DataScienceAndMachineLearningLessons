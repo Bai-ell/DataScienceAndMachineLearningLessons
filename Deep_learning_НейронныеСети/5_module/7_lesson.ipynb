{
 "cells": [
  {
   "cell_type": "markdown",
   "metadata": {},
   "source": [
    "Поиск похожих изображений"
   ]
  },
  {
   "cell_type": "markdown",
   "metadata": {},
   "source": [
    "Пусть нам нужно сравнить два изображения."
   ]
  },
  {
   "cell_type": "markdown",
   "metadata": {},
   "source": [
    "https://lms-cdn.skillfactory.ru/assets/courseware/v1/953a1c114b87687dd80156a231c2b8a8/asset-v1:SkillFactory+MLDL+ALWAYS+type@asset+block/DL-2_5_модуль_21.png"
   ]
  },
  {
   "cell_type": "markdown",
   "metadata": {},
   "source": [
    "Понятно, что на картинках может быть один и тот же объект, но с разных ракурсов. Сравнивать попиксельно невозможно, необходимы признаки более высокого уровня, которые может дать конволюционная сеть. \n",
    "\n",
    "Возьмём большое количество таких лиц и прогоним через autoencoder. Результат работы encoder'a (bottleneck) для каждого изображения запомним, как вектор. Поиск похожих изображений будет заключаться в поиске похожих векторов. И это работает!\n",
    "\n",
    "Denoising autoencoders — ещё одно применение autoencoders. Denoising autoencoders учатся удалять шум с изображения."
   ]
  },
  {
   "cell_type": "markdown",
   "metadata": {},
   "source": [
    "https://lms-cdn.skillfactory.ru/assets/courseware/v1/78e3032d6d6f94e9ce3f0b36d269b362/asset-v1:SkillFactory+MLDL+ALWAYS+type@asset+block/DL-2_5_модуль_22.png"
   ]
  },
  {
   "cell_type": "markdown",
   "metadata": {},
   "source": []
  }
 ],
 "metadata": {
  "kernelspec": {
   "display_name": "venv",
   "language": "python",
   "name": "python3"
  },
  "language_info": {
   "name": "python",
   "version": "3.10.16"
  }
 },
 "nbformat": 4,
 "nbformat_minor": 2
}
