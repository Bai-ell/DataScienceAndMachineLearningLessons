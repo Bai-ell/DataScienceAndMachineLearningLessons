{
 "cells": [
  {
   "cell_type": "markdown",
   "metadata": {},
   "source": [
    "Пространство представлений"
   ]
  },
  {
   "cell_type": "markdown",
   "metadata": {},
   "source": [
    "Рассмотрим на примере, как работает поиск похожих изображений.\n",
    "\n",
    "Возьмём картинку, на которой человек улыбается, превратим её в вектор и найдём ближайшие картинки по близости векторов. Окажется, что на ближайших картинках изображены лица людей, которые имеют схожий ракурс и улыбку."
   ]
  },
  {
   "cell_type": "markdown",
   "metadata": {},
   "source": [
    "https://lms-cdn.skillfactory.ru/assets/courseware/v1/8e3cc60683327a37f830930c7dc00aa1/asset-v1:SkillFactory+MLDL+ALWAYS+type@asset+block/DL-2_5_модуль_24.png"
   ]
  },
  {
   "cell_type": "markdown",
   "metadata": {},
   "source": [
    "Другой пример: для не улыбающегося лица в очках найдутся следующие похожие картинки:\n",
    "\n"
   ]
  },
  {
   "cell_type": "markdown",
   "metadata": {},
   "source": [
    "https://lms-cdn.skillfactory.ru/assets/courseware/v1/53478e19f3251d639b43da075b33a95d/asset-v1:SkillFactory+MLDL+ALWAYS+type@asset+block/DL-2_5_модуль_25.png"
   ]
  },
  {
   "cell_type": "markdown",
   "metadata": {},
   "source": [
    "https://lms-cdn.skillfactory.ru/assets/courseware/v1/9fbb6de35a1bd0cc6ff5aa6df4a39fb6/asset-v1:SkillFactory+MLDL+ALWAYS+type@asset+block/DL-2_5_модуль_26.png"
   ]
  },
  {
   "cell_type": "markdown",
   "metadata": {},
   "source": [
    "В пространстве embedding'ов мы можем делать интерполяцию, плавно меняя картинку"
   ]
  },
  {
   "cell_type": "markdown",
   "metadata": {},
   "source": []
  }
 ],
 "metadata": {
  "language_info": {
   "name": "python"
  }
 },
 "nbformat": 4,
 "nbformat_minor": 2
}
