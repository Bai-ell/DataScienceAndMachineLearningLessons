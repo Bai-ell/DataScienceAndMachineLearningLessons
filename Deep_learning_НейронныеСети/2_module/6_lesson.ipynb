{
 "cells": [
  {
   "cell_type": "markdown",
   "metadata": {},
   "source": [
    " Детали градиентного спуска: цепное правило"
   ]
  },
  {
   "cell_type": "markdown",
   "metadata": {},
   "source": [
    "Умеем дифференцировать:\n",
    "\n",
    "sl26_1\n",
    "\n",
    "Возьмем сложную функцию:\n",
    "\n",
    "sl26_2\n",
    "\n",
    "Цепное правило:\n",
    "\n",
    "\n",
    "\n",
    "Пример для h(x)=f(x)g(x):\n",
    "\n",
    "sl26_4"
   ]
  },
  {
   "cell_type": "markdown",
   "metadata": {},
   "source": []
  }
 ],
 "metadata": {
  "language_info": {
   "name": "python"
  }
 },
 "nbformat": 4,
 "nbformat_minor": 2
}
