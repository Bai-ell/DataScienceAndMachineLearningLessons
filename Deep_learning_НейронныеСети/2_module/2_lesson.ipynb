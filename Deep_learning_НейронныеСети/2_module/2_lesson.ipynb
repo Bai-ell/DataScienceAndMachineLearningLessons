{
 "cells": [
  {
   "cell_type": "markdown",
   "metadata": {},
   "source": [
    "Граф вычислений"
   ]
  },
  {
   "cell_type": "markdown",
   "metadata": {},
   "source": [
    "Граф вычислений\n",
    "\n",
    "На данный момент мы «руками» нашли параметры всех линий:"
   ]
  },
  {
   "cell_type": "markdown",
   "metadata": {},
   "source": [
    "sl8_1\n",
    "При этом на нашу сложную комбинацию функций можно посмотреть как на граф вычислений. У графа есть вершины и каждая вершина — вычисляемое значение.\n",
    "\n",
    "Также есть ребра — зависимости, которые имеют направления (на картинке ниже это стрелочки). Ребро идет от х1 к z1 в случае, если нам необходим х1, чтобы вычислить значение z1. Это граф зависимости между вычисляемыми значениями:"
   ]
  },
  {
   "cell_type": "markdown",
   "metadata": {},
   "source": [
    "https://lms-cdn.skillfactory.ru/assets/courseware/v1/408b137789dea2e44723a2b3a575e92a/asset-v1:SkillFactory+MLDL+ALWAYS+type@asset+block/sl8_2.png"
   ]
  },
  {
   "cell_type": "markdown",
   "metadata": {},
   "source": [
    "Граф соответствует комбинации наших функций. Такой граф называют многослойным персептроном, и здесь уже можно видеть некоторые слои:\n",
    "\n",
    "входной слой (признаки);\n",
    "скрытый слой (нейроны);\n",
    "выходной слой (предсказания).\n",
    "Нелинейности в нейронах\n",
    "\n",
    "Возьмём в качестве примера следующий граф:"
   ]
  },
  {
   "cell_type": "markdown",
   "metadata": {},
   "source": [
    "https://lms-cdn.skillfactory.ru/assets/courseware/v1/bdecd5c44affa0a9da981861287a2460/asset-v1:SkillFactory+MLDL+ALWAYS+type@asset+block/sl10_3.png"
   ]
  },
  {
   "cell_type": "markdown",
   "metadata": {},
   "source": [
    "Если нелинейности убрать, то на этом примере видно, что наша модель станет очень простой: мы можем подставить выражения для z1 и z2 в нашу модель а"
   ]
  },
  {
   "cell_type": "markdown",
   "metadata": {},
   "source": [
    "https://lms-cdn.skillfactory.ru/assets/courseware/v1/c34c1f12f2657ac1cd08a165c46f2f7c/asset-v1:SkillFactory+MLDL+ALWAYS+type@asset+block/sl10_1.png"
   ]
  },
  {
   "cell_type": "markdown",
   "metadata": {},
   "source": [
    "Мы можем раскрыть скобки, привести подобные слагаемые и всё, что мы получим — линейную комбинацию х1 и х2. При этом модель сложнее не становится."
   ]
  },
  {
   "cell_type": "markdown",
   "metadata": {},
   "source": [
    "https://lms-cdn.skillfactory.ru/assets/courseware/v1/c7f86cf763ebd84377ed075928895a14/asset-v1:SkillFactory+MLDL+ALWAYS+type@asset+block/sl10_2.png"
   ]
  },
  {
   "cell_type": "markdown",
   "metadata": {},
   "source": []
  }
 ],
 "metadata": {
  "language_info": {
   "name": "python"
  }
 },
 "nbformat": 4,
 "nbformat_minor": 2
}
