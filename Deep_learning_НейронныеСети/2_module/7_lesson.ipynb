{
 "cells": [
  {
   "cell_type": "markdown",
   "metadata": {},
   "source": [
    "Граф вычисления производных"
   ]
  },
  {
   "cell_type": "markdown",
   "metadata": {},
   "source": [
    "Граф для вычисления производных\n",
    "\n",
    "Граф для вычисления нашей композиции: "
   ]
  },
  {
   "cell_type": "markdown",
   "metadata": {},
   "source": [
    "https://lms-cdn.skillfactory.ru/assets/courseware/v1/6ffe0db0e84238ce885b1951d5dacc30/asset-v1:SkillFactory+MLDL+ALWAYS+type@asset+block/sl27_1.png"
   ]
  },
  {
   "cell_type": "markdown",
   "metadata": {},
   "source": [
    "Построим из него граф из производных:"
   ]
  },
  {
   "cell_type": "markdown",
   "metadata": {},
   "source": [
    "https://lms-cdn.skillfactory.ru/assets/courseware/v1/782bde1189b775de2cc6edf0a4c9026a/asset-v1:SkillFactory+MLDL+ALWAYS+type@asset+block/sl27_2.png"
   ]
  },
  {
   "cell_type": "markdown",
   "metadata": {},
   "source": [
    "Каждому ребру приписана производная начала по концу. Можно догадаться, как работает цепное правило:"
   ]
  },
  {
   "cell_type": "markdown",
   "metadata": {},
   "source": [
    "https://lms-cdn.skillfactory.ru/assets/courseware/v1/19907ab7d89f57625033091ee36703a8/asset-v1:SkillFactory+MLDL+ALWAYS+type@asset+block/sl28_1.png"
   ]
  },
  {
   "cell_type": "markdown",
   "metadata": {},
   "source": [
    "Алгоритм вычисления производной в графе\n",
    "\n",
    "Как посчитать производную a по b:\n",
    "\n",
    "Находим непосещённый путь из a в b;\n",
    "Перемножаем значения на ребрах в пути;\n",
    "Добавляем в сумму;\n",
    "Возвращаемся к п.1."
   ]
  },
  {
   "cell_type": "markdown",
   "metadata": {},
   "source": [
    "https://lms-cdn.skillfactory.ru/assets/courseware/v1/f2a33379f8bdb0ffc6c9c672638cc643/asset-v1:SkillFactory+MLDL+ALWAYS+type@asset+block/sl38_1.png"
   ]
  },
  {
   "cell_type": "markdown",
   "metadata": {},
   "source": []
  }
 ],
 "metadata": {
  "language_info": {
   "name": "python"
  }
 },
 "nbformat": 4,
 "nbformat_minor": 2
}
