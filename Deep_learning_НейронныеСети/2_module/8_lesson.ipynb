{
 "cells": [
  {
   "cell_type": "markdown",
   "metadata": {},
   "source": [
    "Пример одного нейрона"
   ]
  },
  {
   "cell_type": "markdown",
   "metadata": {},
   "source": [
    "Посмотрим на прямой и обратный граф на примере одного нейрона. "
   ]
  },
  {
   "cell_type": "markdown",
   "metadata": {},
   "source": [
    "https://lms-cdn.skillfactory.ru/assets/courseware/v1/453a18779c1b4d7ca9e2f40c4cd5e79c/asset-v1:SkillFactory+MLDL+ALWAYS+type@asset+block/sl39_1.png"
   ]
  },
  {
   "cell_type": "markdown",
   "metadata": {},
   "source": [
    "Рассмотрим, из чего он состоит по порядку:\n",
    "\n",
    "x1, x2 — признаки. Это то, что подаётся на вход (плейсхолдеры);\n",
    "a, b — веса модели (переменные);\n",
    "*  — операции произведения. После идёт подсчёт суммы;\n",
    "s — применяем сигмоиду;\n",
    "z — записываем в новую переменную;\n",
    "L — функция потерь, которая берёт на вход правильные ответы y, предсказанные ответы z  и говорит, на сколько они близки друг к другу;\n",
    "y — плейсхолдер, правильный ответ.\n",
    "Производные функции нам нужны, чтобы узнать как нужно изменить a и b, чтобы минимизировать наши потери: "
   ]
  },
  {
   "cell_type": "markdown",
   "metadata": {},
   "source": [
    "https://lms-cdn.skillfactory.ru/assets/courseware/v1/8b6ccbd0dfcc92e9a4df58acc572d733/asset-v1:SkillFactory+MLDL+ALWAYS+type@asset+block/sl39_2.png"
   ]
  },
  {
   "cell_type": "markdown",
   "metadata": {},
   "source": [
    "Для того, чтобы взять производную, мы переворачиваем наш граф:"
   ]
  },
  {
   "cell_type": "markdown",
   "metadata": {},
   "source": [
    "https://lms-cdn.skillfactory.ru/assets/courseware/v1/08eb984f58a434aebbadbafe4c590fb9/asset-v1:SkillFactory+MLDL+ALWAYS+type@asset+block/sl40_1.png"
   ]
  },
  {
   "cell_type": "markdown",
   "metadata": {},
   "source": [
    "Для каждой стрелочки считаем производную. По сути нам нужно найти обратный путь от L до a:\n",
    "\n"
   ]
  },
  {
   "cell_type": "markdown",
   "metadata": {},
   "source": [
    "https://lms-cdn.skillfactory.ru/assets/courseware/v1/90e32716da72806dc66829fef198402a/asset-v1:SkillFactory+MLDL+ALWAYS+type@asset+block/sl42_1.png"
   ]
  },
  {
   "cell_type": "markdown",
   "metadata": {},
   "source": [
    "Так же считается и по b\n",
    "\n"
   ]
  },
  {
   "cell_type": "markdown",
   "metadata": {},
   "source": [
    "https://lms-cdn.skillfactory.ru/assets/courseware/v1/a29f772ea52ff35460aa5b870428bdf9/asset-v1:SkillFactory+MLDL+ALWAYS+type@asset+block/sl42_2.png"
   ]
  },
  {
   "cell_type": "markdown",
   "metadata": {},
   "source": [
    "В TF  все производные строятся автоматически и достаточно быстро. "
   ]
  },
  {
   "cell_type": "markdown",
   "metadata": {},
   "source": []
  }
 ],
 "metadata": {
  "kernelspec": {
   "display_name": ".venv",
   "language": "python",
   "name": "python3"
  },
  "language_info": {
   "name": "python",
   "version": "3.9.6"
  }
 },
 "nbformat": 4,
 "nbformat_minor": 2
}
