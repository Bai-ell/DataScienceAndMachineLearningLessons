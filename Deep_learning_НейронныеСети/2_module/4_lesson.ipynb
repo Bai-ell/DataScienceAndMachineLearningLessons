{
 "cells": [
  {
   "cell_type": "markdown",
   "metadata": {},
   "source": [
    "TensorFlow\n"
   ]
  },
  {
   "cell_type": "markdown",
   "metadata": {},
   "source": [
    "TensorFlow (TF) — Deep Learning фреймворк"
   ]
  },
  {
   "cell_type": "markdown",
   "metadata": {},
   "source": [
    "https://lms-cdn.skillfactory.ru/assets/courseware/v1/9e5fc510a50e8068a9fe67f46c5808db/asset-v1:SkillFactory+MLDL+ALWAYS+type@asset+block/tflogo.png"
   ]
  },
  {
   "cell_type": "markdown",
   "metadata": {},
   "source": [
    "Основа вычислений в TF — граф. Каждая вершина графа — это одна операция, у которой есть входы и выходы.\n",
    "\n",
    "Вход любой операции — это набор тензоров (многомерных массивов).\n",
    "Выход любой операции — это тоже набор тензоров.\n",
    "А у нас целый граф операций, между которыми перекидываются тензоры.\n",
    "\n",
    "Дополнительные материалы\n",
    "\n",
    "nlp\t\n",
    "В качестве дополнительной литературы рекомендуем вам прочесть следующее:\n",
    "\n",
    "Hello, TensorFlow!"
   ]
  },
  {
   "cell_type": "markdown",
   "metadata": {},
   "source": [
    "TensorFlow (TF) — Deep Learning фреймворк\n",
    "\n",
    "tflogo\n",
    "\n",
    "Основа вычислений в TF — граф. Каждая вершина графа — это одна операция, у которой есть входы и выходы.\n",
    "\n",
    "Вход любой операции — это набор тензоров (многомерных массивов).\n",
    "Выход любой операции — это тоже набор тензоров.\n",
    "А у нас целый граф операций, между которыми перекидываются тензоры.\n",
    "\n",
    "Дополнительные материалы\n",
    "\n",
    "nlp\t\n",
    "В качестве дополнительной литературы рекомендуем вам прочесть следующее:\n",
    "\n",
    "Hello, TensorFlow!\n"
   ]
  },
  {
   "cell_type": "markdown",
   "metadata": {},
   "source": []
  }
 ],
 "metadata": {
  "language_info": {
   "name": "python"
  }
 },
 "nbformat": 4,
 "nbformat_minor": 2
}
