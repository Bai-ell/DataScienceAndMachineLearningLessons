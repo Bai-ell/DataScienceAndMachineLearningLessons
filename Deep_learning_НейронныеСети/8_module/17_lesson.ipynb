{
 "cells": [
  {
   "cell_type": "markdown",
   "metadata": {},
   "source": [
    "DEEP Q-LEARNING"
   ]
  },
  {
   "cell_type": "markdown",
   "metadata": {},
   "source": [
    "Встаёт вопрос, что использовать в качестве Q-функции? Имея в виду не таблицу, а параметрическую функцию Qw. В  Deep learning речь идёт о Deep Q-learning."
   ]
  },
  {
   "cell_type": "markdown",
   "metadata": {},
   "source": [
    "https://lms-cdn.skillfactory.ru/assets/courseware/v1/e43bf3c32b36941dba7fa516c73ecea8/asset-v1:SkillFactory+MLDL+ALWAYS+type@asset+block/DL_11_модуль_33.png"
   ]
  },
  {
   "cell_type": "markdown",
   "metadata": {},
   "source": [
    "Одним из способов построить нейронную сеть, чтобы она соответствовала Q-функции является следующий алгоритм:"
   ]
  },
  {
   "cell_type": "markdown",
   "metadata": {},
   "source": [
    "https://lms-cdn.skillfactory.ru/assets/courseware/v1/f4d6db7406bcd9326278033924f03f7b/asset-v1:SkillFactory+MLDL+ALWAYS+type@asset+block/DL_11_модуль_34.png"
   ]
  },
  {
   "cell_type": "markdown",
   "metadata": {},
   "source": []
  }
 ],
 "metadata": {
  "language_info": {
   "name": "python"
  }
 },
 "nbformat": 4,
 "nbformat_minor": 2
}
