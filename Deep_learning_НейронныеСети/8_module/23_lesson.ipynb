{
 "cells": [
  {
   "cell_type": "markdown",
   "metadata": {},
   "source": [
    "Домашнее задание"
   ]
  },
  {
   "cell_type": "markdown",
   "metadata": {},
   "source": [
    "Домашнее задание в этом модуле будет состоять из двух частей:\n",
    "\n",
    "Часть 1\n",
    "\n",
    "Реализовать experience replay для задачи CartPole.\n",
    "\n",
    "Добавить в существующий код обучения DQN и заставить CartPole сходиться к решению как можно быстрее (за счёт experience replay и подбора других гипер-параметров).\n",
    "Notebook: dqn-cartpole.ipynb https://lms-cdn.skillfactory.ru/assets/courseware/v1/d6ba99dbab2bc21550467e1d301a5a51/asset-v1:SkillFactory+MLDL+ALWAYS+type@asset+block/dqn-cartpole.ipynb\n",
    "\n",
    "Часть 2\n",
    "\n",
    "Обучить DQN для игры \"Pong-v0\".\n",
    "\n",
    "Добавить experience replay, свёрточную нейросеть (возможно, какую-то предобработку) и подобрать гипер-параметры.\n",
    "Notebook: dqn-pong.ipynb https://lms-cdn.skillfactory.ru/assets/courseware/v1/5059bea1551de95336a2cecb58d68524/asset-v1:SkillFactory+MLDL+ALWAYS+type@asset+block/dqn-pong.ipynb"
   ]
  },
  {
   "cell_type": "markdown",
   "metadata": {},
   "source": []
  }
 ],
 "metadata": {
  "language_info": {
   "name": "python"
  }
 },
 "nbformat": 4,
 "nbformat_minor": 2
}
