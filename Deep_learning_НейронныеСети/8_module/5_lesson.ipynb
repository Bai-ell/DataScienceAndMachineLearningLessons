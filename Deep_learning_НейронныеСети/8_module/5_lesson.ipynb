{
 "cells": [
  {
   "cell_type": "markdown",
   "metadata": {},
   "source": [
    " FROZEN LAKE: Действия и награды"
   ]
  },
  {
   "cell_type": "markdown",
   "metadata": {},
   "source": [
    "Применив к состоянию действие, агент либо попадает в другое состояние, либо остаётся в текущем состоянии. Так, например, из состояния (0, 0) действие «вправо» с вероятностью 100 % переведёт агента в состояние (1, 0), действие «вверх» с вероятностью 100 % оставит агента в ячейке (0, 0)."
   ]
  },
  {
   "cell_type": "markdown",
   "metadata": {},
   "source": [
    "https://lms-cdn.skillfactory.ru/assets/courseware/v1/bbad17edfe5f7d464e2b2714c4073e47/asset-v1:SkillFactory+MLDL+ALWAYS+type@asset+block/DL_11_модуль_4_1.png"
   ]
  },
  {
   "cell_type": "markdown",
   "metadata": {},
   "source": [
    "Переходы между состояниями по действиям  задаются вероятностями.\n",
    "\n",
    "Награды\n",
    "\n",
    "В общем случае награда зависит от состояния, в которое агент пришёл, и действия, которое агент совершил, чтобы попасть в это состояние.\n",
    "\n",
    "В нашем простом случае пусть награда не зависит от действия, а зависит от позиции. Организуем награду следующим образом: награда в ячейке ЦЕЛЬ будет равна +10, а во всех остальных 0. Несмотря на то, что награда в ЯМЕ равна 0, при попадании агента в неё игра заканчивается."
   ]
  },
  {
   "cell_type": "markdown",
   "metadata": {},
   "source": [
    "https://lms-cdn.skillfactory.ru/assets/courseware/v1/bf32165c45330f240f2c187cb22ab9cd/asset-v1:SkillFactory+MLDL+ALWAYS+type@asset+block/DL_11_модуль_5_1.png"
   ]
  },
  {
   "cell_type": "markdown",
   "metadata": {},
   "source": []
  }
 ],
 "metadata": {
  "language_info": {
   "name": "python"
  }
 },
 "nbformat": 4,
 "nbformat_minor": 2
}
