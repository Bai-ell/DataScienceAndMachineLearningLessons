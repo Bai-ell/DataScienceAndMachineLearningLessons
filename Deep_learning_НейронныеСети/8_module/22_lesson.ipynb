{
 "cells": [
  {
   "cell_type": "markdown",
   "metadata": {},
   "source": [
    "Дополнительные материалы"
   ]
  },
  {
   "cell_type": "markdown",
   "metadata": {},
   "source": [
    "Reinforcement Learning — обширная и очень динамично развивающаяся область deep learning. В этом модуле мы хотели по крайней мере познакомить вас с этой сферой и помочь составить первое представление о ней.\n",
    "\n",
    "В дополнение советуем посмотреть два видео по теме модуля на канале Arxiv Insights, автор которого рассказывает о последних исследованиях и публикациях в области машинного обучения и deep learning доступным языком."
   ]
  },
  {
   "cell_type": "markdown",
   "metadata": {},
   "source": [
    "An introduction to Reinforcement Learning https://www.youtube.com/watch?v=JgvyzIkgxF0\n",
    "Overcoming sparse rewards in Deep RL: Curiosity, hindsight and auxiliary tasks https://www.youtube.com/watch?v=0Ey02HT_1Ho"
   ]
  },
  {
   "cell_type": "markdown",
   "metadata": {},
   "source": []
  }
 ],
 "metadata": {
  "language_info": {
   "name": "python"
  }
 },
 "nbformat": 4,
 "nbformat_minor": 2
}
