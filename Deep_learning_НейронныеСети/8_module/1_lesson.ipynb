{
 "cells": [
  {
   "cell_type": "markdown",
   "metadata": {},
   "source": [
    "ВВедение в классы обучения"
   ]
  },
  {
   "cell_type": "markdown",
   "metadata": {},
   "source": [
    "В этом модуле пойдёт речь о таком виде машинного обучения, как обучение с подкреплением или RL (англ. reinforcement learning). По итогам изучения темы мы найдём связь обучения с использованием нейронных сетей и обучения с подкреплением.\n",
    "\n",
    "Классы обучения\n",
    "\n",
    "Исходя из того, какие данные доступны на этапе обучения, выделяют следующие классы обучения:\n",
    "\n",
    "обучение с учителем;\n",
    "обучение без учителя;\n",
    "обучение с подкреплением."
   ]
  },
  {
   "cell_type": "markdown",
   "metadata": {},
   "source": [
    "https://lms-cdn.skillfactory.ru/assets/courseware/v1/23cb136d71e0164d97684a3972324341/asset-v1:SkillFactory+MLDL+ALWAYS+type@asset+block/DL_11_модуль_1_1.png"
   ]
  },
  {
   "cell_type": "markdown",
   "metadata": {},
   "source": []
  }
 ],
 "metadata": {
  "language_info": {
   "name": "python"
  }
 },
 "nbformat": 4,
 "nbformat_minor": 2
}
