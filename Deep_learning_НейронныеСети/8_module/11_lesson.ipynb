{
 "cells": [
  {
   "cell_type": "markdown",
   "metadata": {},
   "source": [
    " Q-функция: таблица"
   ]
  },
  {
   "cell_type": "markdown",
   "metadata": {},
   "source": [
    "Разберём на примере, что может представлять собой Q-функция. В самом простом виде Q-функция это таблица, в которой по паре состояние-действие мы можем сказать, на сколько эта пара хороша.\n",
    "\n",
    "Для игры «FROZEN LAKE» таблица будет выглядеть следующим образом:"
   ]
  },
  {
   "cell_type": "markdown",
   "metadata": {},
   "source": [
    "https://lms-cdn.skillfactory.ru/assets/courseware/v1/b03741b0c29e662b96244499c335ec62/asset-v1:SkillFactory+MLDL+ALWAYS+type@asset+block/DL_11_модуль_21_3.png"
   ]
  },
  {
   "cell_type": "markdown",
   "metadata": {},
   "source": [
    "Как используется Q-функция для получения оптимальной политики: выбираются действия, которые максимизируют Q-функцию."
   ]
  },
  {
   "cell_type": "markdown",
   "metadata": {},
   "source": []
  }
 ],
 "metadata": {
  "language_info": {
   "name": "python"
  }
 },
 "nbformat": 4,
 "nbformat_minor": 2
}
