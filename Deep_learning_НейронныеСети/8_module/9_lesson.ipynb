{
 "cells": [
  {
   "cell_type": "markdown",
   "metadata": {},
   "source": [
    " Оценка состояний и действий"
   ]
  },
  {
   "cell_type": "markdown",
   "metadata": {},
   "source": [
    "Оценка состояния: Value-функция"
   ]
  },
  {
   "cell_type": "markdown",
   "metadata": {},
   "source": [
    "https://lms-cdn.skillfactory.ru/assets/courseware/v1/8c34bf2febd10480e2688a9af4d9d52b/asset-v1:SkillFactory+MLDL+ALWAYS+type@asset+block/DL_11_модуль_14.png"
   ]
  },
  {
   "cell_type": "markdown",
   "metadata": {},
   "source": [
    "Value-функция показывает, насколько хорошо текущее состояние в имеющейся политике, с условием, что агент из этого состояния стартует.\n",
    "\n",
    "Оценка состояния + действия: Q-функция"
   ]
  },
  {
   "cell_type": "markdown",
   "metadata": {},
   "source": [
    "https://lms-cdn.skillfactory.ru/assets/courseware/v1/995b768c755af4a46da63a636d9d45cc/asset-v1:SkillFactory+MLDL+ALWAYS+type@asset+block/DL_11_модуль_15.png"
   ]
  },
  {
   "cell_type": "markdown",
   "metadata": {},
   "source": [
    "Q-функция вычисляется как математическое ожидание дисконтированной суммарной награды и оценивает, какую награду получит агент при совершении действия a из состояния s."
   ]
  },
  {
   "cell_type": "markdown",
   "metadata": {},
   "source": []
  }
 ],
 "metadata": {
  "language_info": {
   "name": "python"
  }
 },
 "nbformat": 4,
 "nbformat_minor": 2
}
