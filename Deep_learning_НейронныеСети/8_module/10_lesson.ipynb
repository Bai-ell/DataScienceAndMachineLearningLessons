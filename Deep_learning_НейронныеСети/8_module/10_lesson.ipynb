{
 "cells": [
  {
   "cell_type": "markdown",
   "metadata": {},
   "source": [
    "Оптимальная Q-функция"
   ]
  },
  {
   "cell_type": "markdown",
   "metadata": {},
   "source": [
    "Оптимальная Q-функция Q*— это функция, которая максимизирует Q-функцию при условии конкретной политики. Qπ — это математическое ожидание дисконтируемой суммарной награды"
   ]
  },
  {
   "cell_type": "markdown",
   "metadata": {},
   "source": [
    "https://lms-cdn.skillfactory.ru/assets/courseware/v1/469f2972e5638e12d4d5e2761df75f1c/asset-v1:SkillFactory+MLDL+ALWAYS+type@asset+block/DL_11_модуль_18.png"
   ]
  },
  {
   "cell_type": "markdown",
   "metadata": {},
   "source": [
    "Q* — оптимальная функция в состоянии s при условии, что будет выполнено действие a.\n",
    "\n",
    "Выполним математическое преобразование, вынеся общий множитель γ\n",
    "\n"
   ]
  },
  {
   "cell_type": "markdown",
   "metadata": {},
   "source": [
    "https://lms-cdn.skillfactory.ru/assets/courseware/v1/a71b153453bbd4df3cb61034cd8eec76/asset-v1:SkillFactory+MLDL+ALWAYS+type@asset+block/DL_11_модуль_19.png"
   ]
  },
  {
   "cell_type": "markdown",
   "metadata": {},
   "source": [
    "Тогда во втором множителе получим дисконтируемую сумму, соответствующую состоянию s1. Это наблюдение приведёт нас к пониманию функции Беллмана.\n",
    "\n",
    "Уравнение Беллмана:\n",
    "\n"
   ]
  },
  {
   "cell_type": "markdown",
   "metadata": {},
   "source": [
    "https://lms-cdn.skillfactory.ru/assets/courseware/v1/aa6403bcaacafd8396e842933840b250/asset-v1:SkillFactory+MLDL+ALWAYS+type@asset+block/DL_11_модуль_20_1.png"
   ]
  },
  {
   "cell_type": "markdown",
   "metadata": {},
   "source": []
  }
 ],
 "metadata": {
  "language_info": {
   "name": "python"
  }
 },
 "nbformat": 4,
 "nbformat_minor": 2
}
