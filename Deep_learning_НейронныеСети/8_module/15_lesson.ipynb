{
 "cells": [
  {
   "cell_type": "markdown",
   "metadata": {},
   "source": [
    "Q-LEARNING: Обучение"
   ]
  },
  {
   "cell_type": "markdown",
   "metadata": {},
   "source": [
    "Соберём воедино всё то, что оговорили ранее, и ещё раз получим обучение Q-функции, чтобы найти финальную оптимальную политику.\n",
    "\n",
    "Наши действия:\n",
    "\n",
    "к текущему состоянию s применяем алгоритм eps-greedy (эпсилон-жадный подход) с использованием текущей Q-функции с параметрами W,\n",
    "получаем действие (случайное или по политике),\n",
    "действие сообщаем среде,\n",
    "среда возвращает награду и следующее состояние."
   ]
  },
  {
   "cell_type": "markdown",
   "metadata": {},
   "source": [
    "https://lms-cdn.skillfactory.ru/assets/courseware/v1/59a6b08a91e3f737f54052f8085d21e3/asset-v1:SkillFactory+MLDL+ALWAYS+type@asset+block/DL_11_модуль_30.png"
   ]
  },
  {
   "cell_type": "markdown",
   "metadata": {},
   "source": [
    "Таким образом собираем цепочку s, a, r, s', к которой можем применить стандартный алгоритм обучения с учителем"
   ]
  },
  {
   "cell_type": "markdown",
   "metadata": {},
   "source": [
    "https://lms-cdn.skillfactory.ru/assets/courseware/v1/deece8a7408b1d7711987404c2a1fb4d/asset-v1:SkillFactory+MLDL+ALWAYS+type@asset+block/DL_11_модуль_31.png"
   ]
  },
  {
   "cell_type": "markdown",
   "metadata": {},
   "source": []
  }
 ],
 "metadata": {
  "language_info": {
   "name": "python"
  }
 },
 "nbformat": 4,
 "nbformat_minor": 2
}
