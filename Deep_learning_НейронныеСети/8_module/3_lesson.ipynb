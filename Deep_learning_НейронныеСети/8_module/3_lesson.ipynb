{
 "cells": [
  {
   "cell_type": "markdown",
   "metadata": {},
   "source": [
    " Примеры применения обучения с подкреплением"
   ]
  },
  {
   "cell_type": "markdown",
   "metadata": {},
   "source": [
    "К примерам применения обучения с подкреплением отнесём следующее:\n",
    "\n",
    "игры и симуляторы;\n",
    "передвижение (locomotion);\n",
    "робототехника."
   ]
  },
  {
   "cell_type": "markdown",
   "metadata": {},
   "source": []
  }
 ],
 "metadata": {
  "language_info": {
   "name": "python"
  }
 },
 "nbformat": 4,
 "nbformat_minor": 2
}
