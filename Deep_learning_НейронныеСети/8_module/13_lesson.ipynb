{
 "cells": [
  {
   "cell_type": "markdown",
   "metadata": {},
   "source": [
    "Q-LEARNING: Аппроксимация и Обучение"
   ]
  },
  {
   "cell_type": "markdown",
   "metadata": {},
   "source": [
    "Q-LEARNING: Аппроксимация\n",
    "\n",
    "Проблемой табличного подхода к обучению Q-функции является то, что количество состояний может быть огромным или же вообще состояния могут быть непрерывными. В таком случае таблицу не удаётся эффективно обучить.\n",
    "\n",
    "Решение проблемы заключается в параметрической аппроксимации Q-функции. Пусть функция Qw является «чёрным ящиком» и приближённо равна таблице.  Задача состоит в поиске параметров аппроксимации, которые максимально  приближали бы табличную Q-функцию.\n",
    "\n"
   ]
  },
  {
   "cell_type": "markdown",
   "metadata": {},
   "source": [
    "https://lms-cdn.skillfactory.ru/assets/courseware/v1/2834c82b2d5fc979894257f7269e5b96/asset-v1:SkillFactory+MLDL+ALWAYS+type@asset+block/DL_11_модуль_25.png"
   ]
  },
  {
   "cell_type": "markdown",
   "metadata": {},
   "source": [
    "Q-LEARNING: Обучение\n",
    "\n",
    "Как можно обучить такую параметрическую Q-функцию?\n",
    "\n",
    "Пусть мы имеем цепочку s, a, r, s' и хотим, чтобы параметрическая Q-функция была похожа на оригинальную Q-функцию, которую мы получали с помощью уравнения Беллмана. То есть, мы задаём значение Qtarget для аппроксиматора. \n",
    "\n",
    "Формулируем ошибку E, как и в любом обучении с учителем, и с помощью градиентного спуска находим параметры."
   ]
  },
  {
   "cell_type": "markdown",
   "metadata": {},
   "source": [
    "https://lms-cdn.skillfactory.ru/assets/courseware/v1/27480a8d60487cb7b5de38e1b7f33d2f/asset-v1:SkillFactory+MLDL+ALWAYS+type@asset+block/DL_11_модуль_26.png"
   ]
  },
  {
   "cell_type": "markdown",
   "metadata": {},
   "source": [
    "Рассмотренная архитектура уже позволяет обучать Q-функцию. Но далее мы рассмотрим еще несколько «трюков».\n",
    "\n"
   ]
  },
  {
   "cell_type": "markdown",
   "metadata": {},
   "source": []
  }
 ],
 "metadata": {
  "language_info": {
   "name": "python"
  }
 },
 "nbformat": 4,
 "nbformat_minor": 2
}
