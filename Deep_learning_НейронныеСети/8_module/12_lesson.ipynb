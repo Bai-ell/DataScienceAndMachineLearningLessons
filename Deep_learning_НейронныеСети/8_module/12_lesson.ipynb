{
 "cells": [
  {
   "cell_type": "markdown",
   "metadata": {},
   "source": [
    "Q-LEARNING"
   ]
  },
  {
   "cell_type": "markdown",
   "metadata": {},
   "source": [
    "Q-LEARNING — это, иными словами, способ получить Q-функцию или Q-таблицу.\n",
    "\n",
    "Уравнение Беллмана можно трактовать как связь между Q-функцией в текущем состоянии с текущим действием с Q-функцией от следующего состояния:"
   ]
  },
  {
   "cell_type": "markdown",
   "metadata": {},
   "source": [
    "https://lms-cdn.skillfactory.ru/assets/courseware/v1/b9d72b063b046be7a229bc4b6e825702/asset-v1:SkillFactory+MLDL+ALWAYS+type@asset+block/DL_11_модуль_22.png"
   ]
  },
  {
   "cell_type": "markdown",
   "metadata": {},
   "source": [
    "Благодаря этому уравнению можно итерационно улучшать Q-функцию, присваивая значения, стоящие справа.\n",
    "\n",
    "Итерация обновления Q-функции:\n",
    "\n"
   ]
  },
  {
   "cell_type": "markdown",
   "metadata": {},
   "source": [
    "https://lms-cdn.skillfactory.ru/assets/courseware/v1/60f1f2677fc19912fb5c59f667053429/asset-v1:SkillFactory+MLDL+ALWAYS+type@asset+block/DL_11_модуль_23.png"
   ]
  },
  {
   "cell_type": "markdown",
   "metadata": {},
   "source": [
    "Итерация постепенного обновления Q-функции:"
   ]
  },
  {
   "cell_type": "markdown",
   "metadata": {},
   "source": [
    "https://lms-cdn.skillfactory.ru/assets/courseware/v1/ec0525ecd1c421ada3e5301845877dc7/asset-v1:SkillFactory+MLDL+ALWAYS+type@asset+block/DL_11_модуль_24.png"
   ]
  },
  {
   "cell_type": "markdown",
   "metadata": {},
   "source": [
    "В Q(s, a) присваивается взвешенная комбинация (сумма) старого значения Q-функции и нового значения."
   ]
  },
  {
   "cell_type": "markdown",
   "metadata": {},
   "source": []
  }
 ],
 "metadata": {
  "language_info": {
   "name": "python"
  }
 },
 "nbformat": 4,
 "nbformat_minor": 2
}
