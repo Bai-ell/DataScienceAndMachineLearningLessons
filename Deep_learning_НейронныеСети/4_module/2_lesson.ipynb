{
 "cells": [
  {
   "cell_type": "markdown",
   "metadata": {},
   "source": [
    "Инициализация весов"
   ]
  },
  {
   "cell_type": "markdown",
   "metadata": {},
   "source": [
    "Нейронные сети нельзя инициализировать нулевыми весами, т.к. в этом случае появляется эффект симметрии и, как следствие, сеть станет менее мощной.\n",
    "\n",
    "Нейрон и дисперсия до активации\n",
    "\n",
    "Если у каждого входа нейросети среднее равно 0, и мы генерируем веса независимо от входов, то это нам гарантирует, что среднее нейрона до активации тоже будет равно 0. \n",
    "\n",
    "Но дисперсия может расти, и это замедлит сходимость.\n",
    "\n"
   ]
  },
  {
   "cell_type": "markdown",
   "metadata": {},
   "source": [
    "https://lh5.googleusercontent.com/tcoq3wxOUHVARW8gQYq6WFH9SnN8OTCKDemuBwFpp_Zld3_rO3m_Dh8l7c2MrAt0kgTE9oypNJ9gVzRr5sumbm2kEMJSYcfkdrq1xr0Hy9wNGhInokgMs5cw7an9qM8l--UJNPEg"
   ]
  },
  {
   "cell_type": "markdown",
   "metadata": {},
   "source": [
    "Дисперсия суммы некоррелированных величин — это сумма дисперсий, слагаемые некоррелированы, потому что веса, которые мы генерируем, независимы.\n",
    "Сходимость\n",
    "\n",
    "Гиперболический тангенс для маленьких функций (около 0) похож на линейную функцию, то есть наши ранние выкладки примерно верны, и это означает, что т. к. мы гарантируем одинаковую дисперсию на  разных слоях нейросети, то выход будет распределен примерно одинаково после применения функции активации и, следовательно, градиенты будут в примерно одинаковом масштабе — этот факт позволит ускорить сходимость."
   ]
  },
  {
   "cell_type": "markdown",
   "metadata": {},
   "source": [
    "https://lh3.googleusercontent.com/hPesNSag0SNAS8t-z7xudVX9VdBzkhnuel_2wFD-hI0nlEfA-fnDBTGXowCqy6rXkFymmLF2seByNw9oykeEQXbFjY7UzOloDrzoPpY0P08IzfaaItat8qUug3YbEKVnRmRasK49"
   ]
  },
  {
   "cell_type": "markdown",
   "metadata": {},
   "source": [
    "Дополнительные материалы\n",
    "\n",
    "nlp\t\n",
    "В качестве дополнительной литературы рекомендуем вам:\n",
    "\n",
    "ознакомиться с содержанием https://slideplayer.com/slide/7341917/;\n",
    "прочесть раздел https://en.wikipedia.org/wiki/Variance;\n",
    "изучить статью https://proceedings.mlr.press/v9/glorot10a/glorot10a.pdf."
   ]
  },
  {
   "cell_type": "markdown",
   "metadata": {},
   "source": []
  }
 ],
 "metadata": {
  "language_info": {
   "name": "python"
  }
 },
 "nbformat": 4,
 "nbformat_minor": 2
}
