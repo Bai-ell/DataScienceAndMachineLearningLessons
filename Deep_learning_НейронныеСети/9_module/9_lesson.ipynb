{
 "cells": [
  {
   "cell_type": "markdown",
   "metadata": {},
   "source": [
    "Синтез изображений"
   ]
  },
  {
   "cell_type": "markdown",
   "metadata": {},
   "source": [
    "С помощью рассмотренных выше генераторов синтезируют лица из случайного вектора (шума).\n",
    "\n",
    "Например, лица на рисунке ниже были сгенерированы с помощью Progressive GAN, т.к. сами по себе GAN'ы недостаточно хорошо генерируют изображения в высоком разрешении.\n",
    "\n"
   ]
  },
  {
   "cell_type": "markdown",
   "metadata": {},
   "source": [
    "https://lms-cdn.skillfactory.ru/assets/courseware/v1/c88fc3dc7791c2dfdf16748b96d303c5/asset-v1:SkillFactory+MLDL+ALWAYS+type@asset+block/DL-1_12_модуль_18.png"
   ]
  },
  {
   "cell_type": "markdown",
   "metadata": {},
   "source": [
    "Кроме неконтролируемых GAN'ов, когда на вход подаётся случайный вектор, можно обучать контролируемые GAN'ы. И такую задачу как синтез картинки по тексту мы рассматривали в случае NLP. Для такой и подобных задач GAN — это хороший способ улучшить генерацию.\n",
    "\n"
   ]
  },
  {
   "cell_type": "markdown",
   "metadata": {},
   "source": [
    "https://lms-cdn.skillfactory.ru/assets/courseware/v1/6c78e0dd7dcc42517eae6dcf9029126f/asset-v1:SkillFactory+MLDL+ALWAYS+type@asset+block/DL-1_12_модуль_19.png"
   ]
  },
  {
   "cell_type": "markdown",
   "metadata": {},
   "source": [
    "оме этого можно отображать картинку в картинку. Финальный Loss в этих задачах может складываться из контент Loss'а, определяющего содержание изображения на картинке, и Loss'а, полученного из GAN."
   ]
  },
  {
   "cell_type": "markdown",
   "metadata": {},
   "source": [
    "https://lms-cdn.skillfactory.ru/assets/courseware/v1/8cd85be310899e9bdd85738e03823fd7/asset-v1:SkillFactory+MLDL+ALWAYS+type@asset+block/DL-1_12_модуль_20.png"
   ]
  },
  {
   "cell_type": "markdown",
   "metadata": {},
   "source": []
  }
 ],
 "metadata": {
  "language_info": {
   "name": "python"
  }
 },
 "nbformat": 4,
 "nbformat_minor": 2
}
