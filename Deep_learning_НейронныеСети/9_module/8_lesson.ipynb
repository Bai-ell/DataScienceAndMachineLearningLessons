{
 "cells": [
  {
   "cell_type": "markdown",
   "metadata": {},
   "source": [
    "Генератор и дискриминатор"
   ]
  },
  {
   "cell_type": "markdown",
   "metadata": {},
   "source": [
    "Рассмотрим, что такое генератор и дискриминатор, и как их обучать.\n",
    "\n",
    "Генератор \n",
    "\n",
    "Генератор представляет собой сеть, которая из плотного признакового представления, например, случайного вектора получает, например, картинку.\n",
    "\n",
    "Как и в случае с сегментацией и декодером в автокодировщиках, мы знаем, как строить такого типа свёрточные сети, повыщающие размерность.\n",
    "\n"
   ]
  },
  {
   "cell_type": "markdown",
   "metadata": {},
   "source": [
    "https://lms-cdn.skillfactory.ru/assets/courseware/v1/3b9dab907b292cf600fa05fd18b89232/asset-v1:SkillFactory+MLDL+ALWAYS+type@asset+block/DL-1_12_модуль_14.png"
   ]
  },
  {
   "cell_type": "markdown",
   "metadata": {},
   "source": [
    "Дискриминатор \n",
    "\n",
    "Дискриминатор представляет собой бинарный классификатор. Его задача состоит в следующем: если на вход подаётся картинка из дискриминатора — выдавать на входе 0; если на вход подаётся изображение реального лица — на выходе выдавать 1."
   ]
  },
  {
   "cell_type": "markdown",
   "metadata": {},
   "source": [
    "https://lms-cdn.skillfactory.ru/assets/courseware/v1/6ab9e1a548f5400a2b52d8a73f932478/asset-v1:SkillFactory+MLDL+ALWAYS+type@asset+block/DL-1_12_модуль_15_1.png"
   ]
  },
  {
   "cell_type": "markdown",
   "metadata": {},
   "source": [
    "Обучение дискриминатора\n",
    "\n",
    "На входе для обучения бинарного классификатора требуются объекты первого и второго классов в обучающем батче. Для обучения дискриминатора с помощью обучения с учителем необходимы метки. Очевидно, что на объекты слева (см. рисунок ниже) дискриминатор должен выдавать значение 0, а на объекты справа — 1.\n",
    "\n"
   ]
  },
  {
   "cell_type": "markdown",
   "metadata": {},
   "source": [
    "https://lms-cdn.skillfactory.ru/assets/courseware/v1/4e04ced180949e4670b9a42958a3e92b/asset-v1:SkillFactory+MLDL+ALWAYS+type@asset+block/DL-1_12_модуль_16.png"
   ]
  },
  {
   "cell_type": "markdown",
   "metadata": {},
   "source": [
    "Обучение генератора\n",
    "\n",
    "На вход генератор получает случайный вектор, по которому предсказывает картинку, которая затем подаётся в дискриминатор. Задача обучения генератора в том, чтобы в ответ на картинку дискриминатор выдавал значение 1.\n",
    "\n",
    "Поэтому для обучения генератора необходима полная модель генератор + дискриминатор.  Важно, что на этапе обучения генератора дискриминатор фиксируется и не обучается, а через него просто протаскивается градиент.\n",
    "\n"
   ]
  },
  {
   "cell_type": "markdown",
   "metadata": {},
   "source": [
    "https://lms-cdn.skillfactory.ru/assets/courseware/v1/7f7c66782caa3ad6df60465b1de132f8/asset-v1:SkillFactory+MLDL+ALWAYS+type@asset+block/DL-1_12_модуль_17.png"
   ]
  },
  {
   "cell_type": "markdown",
   "metadata": {},
   "source": [
    "Дискриминатор и генератор обучаются по очереди."
   ]
  },
  {
   "cell_type": "markdown",
   "metadata": {},
   "source": []
  }
 ],
 "metadata": {
  "language_info": {
   "name": "python"
  }
 },
 "nbformat": 4,
 "nbformat_minor": 2
}
