{
 "cells": [
  {
   "cell_type": "markdown",
   "metadata": {},
   "source": [
    "Домашнее задание"
   ]
  },
  {
   "cell_type": "markdown",
   "metadata": {},
   "source": [
    "Ваша задача — обучить генератор случайных лиц на датасете LFW. Можно обучить GAN, а можно попробовать и GAN, и VAE, а затем сравнить их.\n",
    "\n",
    "По ссылке несколько вариантов датасета («сырой» и с некоторыми обработками).\n",
    "\n",
    "Мы предлагаем брать выравненный датасет (aligned), чтоб уменьшить вариативность. То есть — «All images aligned with deep funneling»."
   ]
  },
  {
   "cell_type": "markdown",
   "metadata": {},
   "source": [
    "Поздравляем с окончанием курса!"
   ]
  },
  {
   "cell_type": "markdown",
   "metadata": {},
   "source": [
    "https://lms-cdn.skillfactory.ru/assets/courseware/v1/1415f1f0803810d7957f75647f76f349/asset-v1:SkillFactory+MLDL+ALWAYS+type@asset+block/promotion.png"
   ]
  },
  {
   "cell_type": "markdown",
   "metadata": {},
   "source": []
  }
 ],
 "metadata": {
  "language_info": {
   "name": "python"
  }
 },
 "nbformat": 4,
 "nbformat_minor": 2
}
