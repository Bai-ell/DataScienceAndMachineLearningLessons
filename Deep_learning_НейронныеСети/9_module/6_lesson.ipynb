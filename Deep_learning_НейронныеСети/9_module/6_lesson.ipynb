{
 "cells": [
  {
   "cell_type": "markdown",
   "metadata": {},
   "source": [
    "Обучение ONE-SHOT LEARNING"
   ]
  },
  {
   "cell_type": "markdown",
   "metadata": {},
   "source": [
    "Рассмотрим два классических способа обучения сиамской нейронной сети.\n",
    "\n",
    "Contrastive Loss\n",
    "\n",
    "Этот способ работает следующим образом:\n",
    "\n",
    "В сиамскую сеть подаётся две картинки на вход и получается два вектора d1, d2 на выходе.\n",
    "\n",
    "Первым рассмотрим случай, когда на вход подаются две картинки одного класса. Этот случай будем кодировать значением переменной y = 1.\n",
    "\n",
    "Во втором случае ситуация, когда картинки из разных классов, будем кодировать её значением переменной y = 0. "
   ]
  },
  {
   "cell_type": "markdown",
   "metadata": {},
   "source": [
    "https://lms-cdn.skillfactory.ru/assets/courseware/v1/d7bab35737fa3d76cec2f36abafeaf9d/asset-v1:SkillFactory+MLDL+ALWAYS+type@asset+block/DL-1_12_модуль_7.png"
   ]
  },
  {
   "cell_type": "markdown",
   "metadata": {},
   "source": [
    "Переменная y принимает участие в Loss-функции, которая выглядит следующим образом:"
   ]
  },
  {
   "cell_type": "markdown",
   "metadata": {},
   "source": [
    "https://lms-cdn.skillfactory.ru/assets/courseware/v1/b66208bd0730da3f3ee2b6489b13b15c/asset-v1:SkillFactory+MLDL+ALWAYS+type@asset+block/DL-1_12_модуль_9.png\n"
   ]
  },
  {
   "cell_type": "markdown",
   "metadata": {},
   "source": [
    "d - это расстояние между входными векторами, по которому мы будем обучать модель."
   ]
  },
  {
   "cell_type": "markdown",
   "metadata": {},
   "source": [
    "https://lms-cdn.skillfactory.ru/assets/courseware/v1/6d6dbddc47424c35ae522857d507c11a/asset-v1:SkillFactory+MLDL+ALWAYS+type@asset+block/DL-1_12_модуль_8.png"
   ]
  },
  {
   "cell_type": "markdown",
   "metadata": {},
   "source": [
    "Наша цель состоит в том, чтобы:\n",
    "\n",
    "элементы одного класса лежали рядом, т.е. расстояние d сокращалось;\n",
    "для элементов из разных классов — расстояние увеличивалось.\n",
    "Это будет обучающей информацией для нашей модели.\n",
    "\n",
    "В случае y = 0 мы фиксируем параметр M (так называемый «зазор»). В случае, если расстояние больше M, объекты нами обучатся не будут. Иными словами параметр M показывает, как далеко друг от друга мы должны растащить кластеры.\n",
    "\n",
    "Triplet Loss\n",
    "\n",
    "В этом случае подаются три объекта на вход. Один из объектов трактуем как якорный. Обозначим вектор, соответствующий якорному объекту, как dA (anchor). Из двух других — один объект того же класса, что и якорный объект, обозначаем как dp (positive). Соответственно, третий объект из другого класса обозначим как dN (negative)."
   ]
  },
  {
   "cell_type": "markdown",
   "metadata": {},
   "source": [
    "https://lms-cdn.skillfactory.ru/assets/courseware/v1/d9675324e0627b8cfb729d82ccaf64b4/asset-v1:SkillFactory+MLDL+ALWAYS+type@asset+block/DL-1_12_модуль_10.png"
   ]
  },
  {
   "cell_type": "markdown",
   "metadata": {},
   "source": [
    "Задача обучения состоит в том, чтобы расстояние между якорным объектом и позитивным было меньше, а расстояние между якорным и негативным было больше. Выразить это заключение можно следующим образом:"
   ]
  },
  {
   "cell_type": "markdown",
   "metadata": {},
   "source": [
    "https://lms-cdn.skillfactory.ru/assets/courseware/v1/42651cad3e72eaca587de875862a8802/asset-v1:SkillFactory+MLDL+ALWAYS+type@asset+block/DL-1_12_модуль_11.png"
   ]
  },
  {
   "cell_type": "markdown",
   "metadata": {},
   "source": [
    "Здесь важна относительность расстояния между кластерами и расстояния между объектами одного кластера."
   ]
  },
  {
   "cell_type": "markdown",
   "metadata": {},
   "source": []
  }
 ],
 "metadata": {
  "language_info": {
   "name": "python"
  }
 },
 "nbformat": 4,
 "nbformat_minor": 2
}
