{
 "cells": [
  {
   "cell_type": "markdown",
   "metadata": {},
   "source": [
    " Состязательные сети"
   ]
  },
  {
   "cell_type": "markdown",
   "metadata": {},
   "source": [
    "Состязательная сеть (анг. Generative Adversarial Networks, GAN).\n",
    "\n",
    "Идея состоит в том, чтобы построить вторую сеть, которая называется дискриминатор. Это просто бинарный классификатор: на входе — картинка, а на выходе — ответ с предположением: реальная картинка, или синтезированная. "
   ]
  },
  {
   "cell_type": "markdown",
   "metadata": {},
   "source": [
    "https://lms-cdn.skillfactory.ru/assets/courseware/v1/4bb4ebfc58e0a93e8e0d6dd603590c0b/asset-v1:SkillFactory+MLDL+ALWAYS+type@asset+block/DL_1_модуль_21.png"
   ]
  },
  {
   "cell_type": "markdown",
   "metadata": {},
   "source": [
    "Важный момент: генератор должен учиться обманывать дискриминатор. И они учатся параллельно, играя в антагонистическую игру, и в итоге мы получаем идеальный генератор и идеальный дискриминантор.\n",
    "\n",
    "Примеры применения:\n",
    "\n",
    "Синтез изображений.\n",
    "Преобразование текста в изображение.\n",
    "Отображение изображения в изображение.\n",
    "Отображение видео в видео.\n",
    "Синтез речи (Wavenet).\n",
    "Аудио в видео."
   ]
  },
  {
   "cell_type": "markdown",
   "metadata": {},
   "source": []
  }
 ],
 "metadata": {
  "language_info": {
   "name": "python"
  }
 },
 "nbformat": 4,
 "nbformat_minor": 2
}
