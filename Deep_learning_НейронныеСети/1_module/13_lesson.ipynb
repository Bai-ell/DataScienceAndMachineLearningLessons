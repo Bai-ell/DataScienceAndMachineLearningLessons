{
 "cells": [
  {
   "cell_type": "markdown",
   "metadata": {},
   "source": [
    "Практика. Открываем ноутбук в Colab"
   ]
  },
  {
   "cell_type": "markdown",
   "metadata": {},
   "source": [
    "Используемый в видео notebook: mnist_intro.ipynb\n",
    "\n",
    "Вы можете сохранить себе notebook из примера. \n",
    "\n",
    "MNIST — задача классификации рукописных цифр. В ней есть 10 классов: цифры от 0 до 9. \n",
    "\n",
    "Google Colab — облачный Jupyter notebook от Google. Для сохранения всех ваших действий в ноутбуке, советуем залогиниться в аккаунте Google."
   ]
  },
  {
   "cell_type": "code",
   "execution_count": null,
   "metadata": {},
   "outputs": [],
   "source": [
    "\n"
   ]
  }
 ],
 "metadata": {
  "kernelspec": {
   "display_name": ".venv",
   "language": "python",
   "name": "python3"
  },
  "language_info": {
   "name": "python",
   "version": "3.9.6"
  }
 },
 "nbformat": 4,
 "nbformat_minor": 2
}
