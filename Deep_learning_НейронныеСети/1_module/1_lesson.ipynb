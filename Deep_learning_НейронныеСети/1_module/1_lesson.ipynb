{
 "cells": [
  {
   "cell_type": "markdown",
   "metadata": {},
   "source": [
    "Преподаватель: Дмитрий Коробченко, Deep Learning R&D Engineer, NVIDIA.\n",
    "\n",
    "В первом модуле мы рассмотрим:\n",
    "\n",
    "Как строить нейронные сети.\n",
    "Какие типы нейронных сетей бывают.\n",
    "Где сегодня применяются нейронные сети."
   ]
  },
  {
   "cell_type": "markdown",
   "metadata": {},
   "source": []
  }
 ],
 "metadata": {
  "language_info": {
   "name": "python"
  }
 },
 "nbformat": 4,
 "nbformat_minor": 2
}
