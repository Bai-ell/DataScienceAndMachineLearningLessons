{
 "cells": [
  {
   "cell_type": "markdown",
   "metadata": {},
   "source": [
    "Тип SEQUENCE-TO-SEQUENCE"
   ]
  },
  {
   "cell_type": "markdown",
   "metadata": {},
   "source": [
    "Тип SEQUENCE-TO-SEQUENCE или SEQ 2 SEQ предполагает обработку последовательностей по принципу «на входе последовательность и на выходе последовательность».\n",
    "\n",
    "SEQ 2 SEQ: ENCODER-DECODER\n",
    "\n",
    "Схема Encoder-decoder используется для машинного перевода, чат-ботов и пр. Encoder кодирует входную цепочку,  decoder разворачивает код в выходную цепочку."
   ]
  },
  {
   "cell_type": "markdown",
   "metadata": {},
   "source": [
    "https://lms-cdn.skillfactory.ru/assets/courseware/v1/b4c44fb7a05e71c7eb06c12aa327fce3/asset-v1:SkillFactory+MLDL+ALWAYS+type@asset+block/DL-1_10_модуль_11.png"
   ]
  },
  {
   "cell_type": "markdown",
   "metadata": {},
   "source": [
    "SEQ 2 SEQ: машинный перевод\n",
    "\n",
    "SEQ 2 SEQ используется для машинного перевода. На вход подаётся фраза на одном языке, на выходе — на другом. Необязательно фразы должны иметь одинаковую длину, т. к. входная и выходная цепочки никак не связаны по длине. Вся входная цепочка подаётся в сеть до остановки в какой-то момент, а выходная цепочка синтезируется, пока не встретится токен <END>."
   ]
  },
  {
   "cell_type": "markdown",
   "metadata": {},
   "source": [
    "https://lms-cdn.skillfactory.ru/assets/courseware/v1/f6cfe051f0b647aabb6f623ef1b4071f/asset-v1:SkillFactory+MLDL+ALWAYS+type@asset+block/DL-1_10_модуль_12png.png"
   ]
  },
  {
   "cell_type": "markdown",
   "metadata": {},
   "source": [
    "SEQ 2 SEQ: decoder\n",
    "\n",
    "Так как decoder соответствует алгоритму One-to-Many, то улучшить его можно, подавая выходной элемент последовательности как входной элемент в следующий момент времени. Таким образом, на вход в decoder подаётся токен <START> и закодированное состояние из encoder в качестве признаков. \n",
    "\n"
   ]
  },
  {
   "cell_type": "markdown",
   "metadata": {},
   "source": [
    "https://lms-cdn.skillfactory.ru/assets/courseware/v1/dadc37e3d755f3abb044298bb6e7a6bc/asset-v1:SkillFactory+MLDL+ALWAYS+type@asset+block/DL-1_10_модуль_13.png"
   ]
  },
  {
   "cell_type": "markdown",
   "metadata": {},
   "source": [
    "SEQ 2 SEQ: чат бот\n",
    "\n",
    "Ещё один пример SEQ 2 SEQ это чат бот. Предложение или весь предыдущий диалог на входе кодируется одним вектором, который подаётся в decoder, разворачивающий его и генерирующий текст.\n",
    "\n"
   ]
  },
  {
   "cell_type": "markdown",
   "metadata": {},
   "source": [
    "https://lms-cdn.skillfactory.ru/assets/courseware/v1/e233c62ea53b38ce55e3fb8a176bdbf7/asset-v1:SkillFactory+MLDL+ALWAYS+type@asset+block/DL-1_10_модуль_14.png"
   ]
  },
  {
   "cell_type": "markdown",
   "metadata": {},
   "source": []
  }
 ],
 "metadata": {
  "language_info": {
   "name": "python"
  }
 },
 "nbformat": 4,
 "nbformat_minor": 2
}
