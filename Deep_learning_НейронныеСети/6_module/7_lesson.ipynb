{
 "cells": [
  {
   "cell_type": "markdown",
   "metadata": {},
   "source": [
    " Типы обработки последовательностей"
   ]
  },
  {
   "cell_type": "markdown",
   "metadata": {},
   "source": [
    "Под слоем сети теперь будем понимать LSTM или GRU ячейки. Рассмотрим, какие рекуррентные нейронные сети можно  на их основе строить.\n",
    "\n",
    "Many-to-One: в нейронную сеть подаются входные элементы, которые считываются и протаскиваются во времени. На выходе — один элемент.\n",
    "\n",
    "One-to-Many: один элемент на входе (скаляр, матрица или тензор) разворачивается в сети в последовательность, выдавая на выходе один за другим выходные элементы.\n",
    "\n"
   ]
  },
  {
   "cell_type": "markdown",
   "metadata": {},
   "source": [
    "https://lms-cdn.skillfactory.ru/assets/courseware/v1/3452178a4ff4101b9a28179c58dcac95/asset-v1:SkillFactory+MLDL+ALWAYS+type@asset+block/DL-1_10_модуль_1_1.png"
   ]
  },
  {
   "cell_type": "markdown",
   "metadata": {},
   "source": [
    "Many-to-Many (Sync): каждому из нескольких элементов на входе соответствует выходной элемент.\n",
    "\n",
    "Many-to-Many (Encoder-Decoder): входная и выходная цепочка могут не совпадать по длине. Идея в том, что сначала обрабатывается входная цепочка, последовательно считывается и протаскивается во времени. А далее финальный код декодируется и разворачивается в новую цепочку."
   ]
  },
  {
   "cell_type": "markdown",
   "metadata": {},
   "source": [
    "https://lms-cdn.skillfactory.ru/assets/courseware/v1/ffb4bc24fc6035a1539ac063a7f01297/asset-v1:SkillFactory+MLDL+ALWAYS+type@asset+block/DL-1_10_модуль_2_1.png"
   ]
  },
  {
   "cell_type": "markdown",
   "metadata": {},
   "source": []
  }
 ],
 "metadata": {
  "language_info": {
   "name": "python"
  }
 },
 "nbformat": 4,
 "nbformat_minor": 2
}
