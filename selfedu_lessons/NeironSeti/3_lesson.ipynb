{
 "cells": [
  {
   "cell_type": "code",
   "execution_count": 5,
   "metadata": {},
   "outputs": [
    {
     "name": "stdout",
     "output_type": "stream",
     "text": [
      "Выходное значение НС: 0.05697910061955813 => -1\n",
      "Выходное значение НС: -0.037810180425707385 => 1\n",
      "Выходное значение НС: 0.04112126436245456 => -1\n",
      "Выходное значение НС: -0.04997634104130899 => 1\n",
      "Выходное значение НС: 0.04997634104130899 => -1\n",
      "Выходное значение НС: -0.041121264362454335 => 1\n",
      "Выходное значение НС: 0.037810180425707385 => -1\n",
      "Выходное значение НС: -0.05697910061955813 => -1\n"
     ]
    }
   ],
   "source": [
    "import numpy as np\n",
    "\n",
    "def f(x):\n",
    "    return 2/(1 + np.exp(-x)) - 1\n",
    "\n",
    "def df(x):\n",
    "    return 0.5*(1 + x)*(1 - x)\n",
    "\n",
    "W1 = np.array([[-0.2, 0.3, -0.4], [0.1, -0.3, -0.4]])\n",
    "W2 = np.array([0.2, 0.3])\n",
    "\n",
    "def go_forward(inp):\n",
    "    sum = np.dot(W1, inp)\n",
    "    out = np.array([f(x) for x in sum])\n",
    "\n",
    "    sum = np.dot(W2, out)\n",
    "    y = f(sum)\n",
    "    return (y, out)\n",
    "\n",
    "def train(epoch):\n",
    "    global W2, W1\n",
    "    lmd = 0.01          # шаг обучения\n",
    "    N = 10    # число итераций при обучении\n",
    "    count = len(epoch)\n",
    "    for k in range(N):\n",
    "        x = epoch[np.random.randint(0, count)]  # случайных выбор входного сигнала из обучающей выборки\n",
    "        y, out = go_forward(x[0:3])             # прямой проход по НС и вычисление выходных значений нейронов\n",
    "        e = y - x[-1]                           # ошибка\n",
    "        delta = e*df(y)                         # локальный градиент\n",
    "        W2[0] = W2[0] - lmd * delta * out[0]    # корректировка веса первой связи\n",
    "        W2[1] = W2[1] - lmd * delta * out[1]    # корректировка веса второй связи\n",
    "\n",
    "        delta2 = W2*delta*df(out)               # вектор из 2-х величин локальных градиентов\n",
    "\n",
    "        # корректировка связей первого слоя\n",
    "        W1[0, :] = W1[0, :] - np.array(x[0:3]) * delta2[0] * lmd\n",
    "        W1[1, :] = W1[1, :] - np.array(x[0:3]) * delta2[1] * lmd\n",
    "\n",
    "# обучающая выборка (она же полная выборка)\n",
    "epoch = [(-1, -1, -1, -1),\n",
    "         (-1, -1, 1, 1),\n",
    "         (-1, 1, -1, -1),\n",
    "         (-1, 1, 1, 1),\n",
    "         (1, -1, -1, -1),\n",
    "         (1, -1, 1, 1),\n",
    "         (1, 1, -1, -1),\n",
    "         (1, 1, 1, -1)]\n",
    "\n",
    "train(epoch)        # запуск обучения сети\n",
    "\n",
    "# проверка полученных результатов\n",
    "for x in epoch:\n",
    "    y, out = go_forward(x[0:3])\n",
    "    print(f\"Выходное значение НС: {y} => {x[-1]}\")"
   ]
  },
  {
   "cell_type": "code",
   "execution_count": null,
   "metadata": {},
   "outputs": [],
   "source": []
  }
 ],
 "metadata": {
  "kernelspec": {
   "display_name": ".venv",
   "language": "python",
   "name": "python3"
  },
  "language_info": {
   "codemirror_mode": {
    "name": "ipython",
    "version": 3
   },
   "file_extension": ".py",
   "mimetype": "text/x-python",
   "name": "python",
   "nbconvert_exporter": "python",
   "pygments_lexer": "ipython3",
   "version": "3.9.6"
  }
 },
 "nbformat": 4,
 "nbformat_minor": 2
}
