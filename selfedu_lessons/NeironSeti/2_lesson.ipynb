{
 "cells": [
  {
   "cell_type": "code",
   "execution_count": 3,
   "metadata": {},
   "outputs": [
    {
     "name": "stdout",
     "output_type": "stream",
     "text": [
      "1 1\n",
      "0 0\n"
     ]
    }
   ],
   "source": [
    "import numpy as np\n",
    "import matplotlib.pyplot as plt\n",
    "\n",
    "def act(x):\n",
    "    return 0 if x <= 0 else 1\n",
    "\n",
    "def go(C):\n",
    "    x = np.array([C[0], C[1], 1])\n",
    "    w1 = [1, 1, -1.5]\n",
    "    w2 = [1, 1, -0.5]\n",
    "    w_hidden = np.array([w1, w2])\n",
    "    w_out = np.array([-1, 1, -0.5])\n",
    "\n",
    "    sum = np.dot(w_hidden, x)\n",
    "    out = [act(x) for x in sum]\n",
    "    out.append(1)\n",
    "    out = np.array(out)\n",
    "\n",
    "    sum = np.dot(w_out, out)\n",
    "    y = act(sum)\n",
    "    return y\n",
    "\n",
    "C1 = [(1,0), (0,1)]\n",
    "C2 = [(0,0), (1,1)]\n",
    "\n",
    "print( go(C1[1]), go(C1[1]) )\n",
    "print( go(C2[0]), go(C2[1]) )"
   ]
  },
  {
   "cell_type": "code",
   "execution_count": null,
   "metadata": {},
   "outputs": [],
   "source": []
  }
 ],
 "metadata": {
  "kernelspec": {
   "display_name": ".venv",
   "language": "python",
   "name": "python3"
  },
  "language_info": {
   "codemirror_mode": {
    "name": "ipython",
    "version": 3
   },
   "file_extension": ".py",
   "mimetype": "text/x-python",
   "name": "python",
   "nbconvert_exporter": "python",
   "pygments_lexer": "ipython3",
   "version": "3.9.6"
  }
 },
 "nbformat": 4,
 "nbformat_minor": 2
}
