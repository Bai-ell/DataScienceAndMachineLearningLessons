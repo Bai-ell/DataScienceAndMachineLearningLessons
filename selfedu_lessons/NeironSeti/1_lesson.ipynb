{
 "cells": [
  {
   "cell_type": "markdown",
   "metadata": {},
   "source": [
    "Принцип работы нейронных сетий\n"
   ]
  },
  {
   "cell_type": "code",
   "execution_count": 15,
   "metadata": {},
   "outputs": [
    {
     "name": "stdout",
     "output_type": "stream",
     "text": [
      "Значение сум на нейронах скрытого слоя: [0.3 0.4]\n",
      "Значение на выходных нейронах скрытого слоя: [0 0]\n",
      "Выходное значение НС: 0\n",
      "You so ugly!\n"
     ]
    }
   ],
   "source": [
    "import numpy as np \n",
    "\n",
    "def act(x):\n",
    "    return np.where(x < 0.5, 0, 1)\n",
    "\n",
    "def go(house, rock, attr):\n",
    "    x = np.array([house, rock, attr])\n",
    "    w11 = [0.3, 0.3, 0]\n",
    "    w12 = [0.4, -0.5, 1]\n",
    "    weight1 = np.array([w11, w12])  # матрица 2х3\n",
    "    weight2 = np.array([-1, 1])\n",
    "\n",
    "    sum_hidden = np.dot(weight1, x)\n",
    "    print('Значение сум на нейронах скрытого слоя:', str(sum_hidden))\n",
    "\n",
    "    # Применяем функцию активации к каждому элементу скрытого слоя\n",
    "    out_hidden = np.array([act(i) for i in sum_hidden])\n",
    "    print('Значение на выходных нейронах скрытого слоя:', str(out_hidden))\n",
    "\n",
    "    # Корректное умножение на вес второго слоя\n",
    "    sum_end = np.dot(weight2, out_hidden)\n",
    "    y = act(sum_end)\n",
    "    print(\"Выходное значение НС:\", str(y))\n",
    "\n",
    "    return y\n",
    "\n",
    "house = 1\n",
    "rock = 0\n",
    "attr = 0\n",
    "\n",
    "res = go(house, rock, attr)\n",
    "if res == 1:\n",
    "    print('I like you!')\n",
    "else:\n",
    "    print('You so ugly!')\n"
   ]
  },
  {
   "cell_type": "code",
   "execution_count": null,
   "metadata": {},
   "outputs": [],
   "source": []
  }
 ],
 "metadata": {
  "kernelspec": {
   "display_name": ".venv",
   "language": "python",
   "name": "python3"
  },
  "language_info": {
   "codemirror_mode": {
    "name": "ipython",
    "version": 3
   },
   "file_extension": ".py",
   "mimetype": "text/x-python",
   "name": "python",
   "nbconvert_exporter": "python",
   "pygments_lexer": "ipython3",
   "version": "3.9.6"
  }
 },
 "nbformat": 4,
 "nbformat_minor": 2
}
